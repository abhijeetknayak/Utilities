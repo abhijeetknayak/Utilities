{
 "cells": [
  {
   "cell_type": "code",
   "execution_count": 105,
   "metadata": {},
   "outputs": [
    {
     "data": {
      "text/html": [
       "<div>\n",
       "<style scoped>\n",
       "    .dataframe tbody tr th:only-of-type {\n",
       "        vertical-align: middle;\n",
       "    }\n",
       "\n",
       "    .dataframe tbody tr th {\n",
       "        vertical-align: top;\n",
       "    }\n",
       "\n",
       "    .dataframe thead th {\n",
       "        text-align: right;\n",
       "    }\n",
       "</style>\n",
       "<table border=\"1\" class=\"dataframe\">\n",
       "  <thead>\n",
       "    <tr style=\"text-align: right;\">\n",
       "      <th></th>\n",
       "      <th>Entity</th>\n",
       "      <th>Code</th>\n",
       "      <th>Year</th>\n",
       "      <th>Child mortality (Select Gapminder, v10) (2017)</th>\n",
       "    </tr>\n",
       "  </thead>\n",
       "  <tbody>\n",
       "    <tr>\n",
       "      <th>0</th>\n",
       "      <td>Afghanistan</td>\n",
       "      <td>AFG</td>\n",
       "      <td>1957</td>\n",
       "      <td>381.194</td>\n",
       "    </tr>\n",
       "    <tr>\n",
       "      <th>1</th>\n",
       "      <td>Afghanistan</td>\n",
       "      <td>AFG</td>\n",
       "      <td>1958</td>\n",
       "      <td>375.190</td>\n",
       "    </tr>\n",
       "    <tr>\n",
       "      <th>2</th>\n",
       "      <td>Afghanistan</td>\n",
       "      <td>AFG</td>\n",
       "      <td>1959</td>\n",
       "      <td>369.361</td>\n",
       "    </tr>\n",
       "    <tr>\n",
       "      <th>3</th>\n",
       "      <td>Afghanistan</td>\n",
       "      <td>AFG</td>\n",
       "      <td>1960</td>\n",
       "      <td>363.700</td>\n",
       "    </tr>\n",
       "    <tr>\n",
       "      <th>4</th>\n",
       "      <td>Afghanistan</td>\n",
       "      <td>AFG</td>\n",
       "      <td>1961</td>\n",
       "      <td>357.500</td>\n",
       "    </tr>\n",
       "    <tr>\n",
       "      <th>...</th>\n",
       "      <td>...</td>\n",
       "      <td>...</td>\n",
       "      <td>...</td>\n",
       "      <td>...</td>\n",
       "    </tr>\n",
       "    <tr>\n",
       "      <th>95</th>\n",
       "      <td>Albania</td>\n",
       "      <td>ALB</td>\n",
       "      <td>2013</td>\n",
       "      <td>14.900</td>\n",
       "    </tr>\n",
       "    <tr>\n",
       "      <th>96</th>\n",
       "      <td>Albania</td>\n",
       "      <td>ALB</td>\n",
       "      <td>2014</td>\n",
       "      <td>14.400</td>\n",
       "    </tr>\n",
       "    <tr>\n",
       "      <th>97</th>\n",
       "      <td>Albania</td>\n",
       "      <td>ALB</td>\n",
       "      <td>2015</td>\n",
       "      <td>14.000</td>\n",
       "    </tr>\n",
       "    <tr>\n",
       "      <th>98</th>\n",
       "      <td>Albania</td>\n",
       "      <td>ALB</td>\n",
       "      <td>2016</td>\n",
       "      <td>13.500</td>\n",
       "    </tr>\n",
       "    <tr>\n",
       "      <th>99</th>\n",
       "      <td>Algeria</td>\n",
       "      <td>DZA</td>\n",
       "      <td>1954</td>\n",
       "      <td>249.900</td>\n",
       "    </tr>\n",
       "  </tbody>\n",
       "</table>\n",
       "<p>100 rows × 4 columns</p>\n",
       "</div>"
      ],
      "text/plain": [
       "         Entity Code  Year  Child mortality (Select Gapminder, v10) (2017)\n",
       "0   Afghanistan  AFG  1957                                         381.194\n",
       "1   Afghanistan  AFG  1958                                         375.190\n",
       "2   Afghanistan  AFG  1959                                         369.361\n",
       "3   Afghanistan  AFG  1960                                         363.700\n",
       "4   Afghanistan  AFG  1961                                         357.500\n",
       "..          ...  ...   ...                                             ...\n",
       "95      Albania  ALB  2013                                          14.900\n",
       "96      Albania  ALB  2014                                          14.400\n",
       "97      Albania  ALB  2015                                          14.000\n",
       "98      Albania  ALB  2016                                          13.500\n",
       "99      Algeria  DZA  1954                                         249.900\n",
       "\n",
       "[100 rows x 4 columns]"
      ]
     },
     "execution_count": 105,
     "metadata": {},
     "output_type": "execute_result"
    }
   ],
   "source": [
    "import pandas as pd\n",
    "import numpy as np\n",
    "\n",
    "child_mortality = pd.read_csv('child-mortality.csv')\n",
    "child_mortality.head(100)"
   ]
  },
  {
   "cell_type": "code",
   "execution_count": 106,
   "metadata": {},
   "outputs": [],
   "source": [
    "def embed_map(m, file_name):\n",
    "    from IPython.display import IFrame\n",
    "    m.save(file_name)\n",
    "    return IFrame(file_name, width='100%', height='500px')"
   ]
  },
  {
   "cell_type": "code",
   "execution_count": 107,
   "metadata": {},
   "outputs": [
    {
     "name": "stdout",
     "output_type": "stream",
     "text": [
      "<class 'pandas.core.frame.DataFrame'>\n",
      "RangeIndex: 13512 entries, 0 to 13511\n",
      "Data columns (total 4 columns):\n",
      " #   Column                                          Non-Null Count  Dtype  \n",
      "---  ------                                          --------------  -----  \n",
      " 0   Entity                                          13512 non-null  object \n",
      " 1   Code                                            13512 non-null  object \n",
      " 2   Year                                            13512 non-null  int64  \n",
      " 3   Child mortality (Select Gapminder, v10) (2017)  13512 non-null  float64\n",
      "dtypes: float64(1), int64(1), object(2)\n",
      "memory usage: 422.4+ KB\n"
     ]
    }
   ],
   "source": [
    "child_mortality.info()"
   ]
  },
  {
   "cell_type": "markdown",
   "metadata": {},
   "source": [
    "### TASK 1 : Minimum values of child mortality in different countries"
   ]
  },
  {
   "cell_type": "code",
   "execution_count": 108,
   "metadata": {},
   "outputs": [
    {
     "data": {
      "text/html": [
       "<div>\n",
       "<style scoped>\n",
       "    .dataframe tbody tr th:only-of-type {\n",
       "        vertical-align: middle;\n",
       "    }\n",
       "\n",
       "    .dataframe tbody tr th {\n",
       "        vertical-align: top;\n",
       "    }\n",
       "\n",
       "    .dataframe thead th {\n",
       "        text-align: right;\n",
       "    }\n",
       "</style>\n",
       "<table border=\"1\" class=\"dataframe\">\n",
       "  <thead>\n",
       "    <tr style=\"text-align: right;\">\n",
       "      <th></th>\n",
       "      <th>Entity</th>\n",
       "      <th>Child_mortality</th>\n",
       "    </tr>\n",
       "    <tr>\n",
       "      <th>Code</th>\n",
       "      <th></th>\n",
       "      <th></th>\n",
       "    </tr>\n",
       "  </thead>\n",
       "  <tbody>\n",
       "    <tr>\n",
       "      <th>ISL</th>\n",
       "      <td>Iceland</td>\n",
       "      <td>2.100</td>\n",
       "    </tr>\n",
       "    <tr>\n",
       "      <th>HKG</th>\n",
       "      <td>Hong Kong</td>\n",
       "      <td>2.282</td>\n",
       "    </tr>\n",
       "    <tr>\n",
       "      <th>FIN</th>\n",
       "      <td>Finland</td>\n",
       "      <td>2.300</td>\n",
       "    </tr>\n",
       "    <tr>\n",
       "      <th>SVN</th>\n",
       "      <td>Slovenia</td>\n",
       "      <td>2.300</td>\n",
       "    </tr>\n",
       "    <tr>\n",
       "      <th>LUX</th>\n",
       "      <td>Luxembourg</td>\n",
       "      <td>2.400</td>\n",
       "    </tr>\n",
       "    <tr>\n",
       "      <th>...</th>\n",
       "      <td>...</td>\n",
       "      <td>...</td>\n",
       "    </tr>\n",
       "    <tr>\n",
       "      <th>MLI</th>\n",
       "      <td>Mali</td>\n",
       "      <td>110.600</td>\n",
       "    </tr>\n",
       "    <tr>\n",
       "      <th>SLE</th>\n",
       "      <td>Sierra Leone</td>\n",
       "      <td>113.500</td>\n",
       "    </tr>\n",
       "    <tr>\n",
       "      <th>CAF</th>\n",
       "      <td>Central African Republic</td>\n",
       "      <td>123.600</td>\n",
       "    </tr>\n",
       "    <tr>\n",
       "      <th>TCD</th>\n",
       "      <td>Chad</td>\n",
       "      <td>127.300</td>\n",
       "    </tr>\n",
       "    <tr>\n",
       "      <th>SOM</th>\n",
       "      <td>Somalia</td>\n",
       "      <td>132.500</td>\n",
       "    </tr>\n",
       "  </tbody>\n",
       "</table>\n",
       "<p>211 rows × 2 columns</p>\n",
       "</div>"
      ],
      "text/plain": [
       "                        Entity  Child_mortality\n",
       "Code                                           \n",
       "ISL                    Iceland            2.100\n",
       "HKG                  Hong Kong            2.282\n",
       "FIN                    Finland            2.300\n",
       "SVN                   Slovenia            2.300\n",
       "LUX                 Luxembourg            2.400\n",
       "...                        ...              ...\n",
       "MLI                       Mali          110.600\n",
       "SLE               Sierra Leone          113.500\n",
       "CAF   Central African Republic          123.600\n",
       "TCD                       Chad          127.300\n",
       "SOM                    Somalia          132.500\n",
       "\n",
       "[211 rows x 2 columns]"
      ]
     },
     "execution_count": 108,
     "metadata": {},
     "output_type": "execute_result"
    }
   ],
   "source": [
    "child_mortality.rename(columns={\"Child mortality (Select Gapminder, v10) (2017)\": \"Child_mortality\"}, inplace=True)\n",
    "df = child_mortality[[\"Entity\", \"Code\", \"Child_mortality\"]]\n",
    "df.groupby(\"Code\").min().sort_values(\"Child_mortality\")"
   ]
  },
  {
   "cell_type": "markdown",
   "metadata": {},
   "source": [
    "### TASK 2 : Least value of CM in countries in 2016"
   ]
  },
  {
   "cell_type": "code",
   "execution_count": 109,
   "metadata": {},
   "outputs": [
    {
     "data": {
      "text/html": [
       "<div>\n",
       "<style scoped>\n",
       "    .dataframe tbody tr th:only-of-type {\n",
       "        vertical-align: middle;\n",
       "    }\n",
       "\n",
       "    .dataframe tbody tr th {\n",
       "        vertical-align: top;\n",
       "    }\n",
       "\n",
       "    .dataframe thead th {\n",
       "        text-align: right;\n",
       "    }\n",
       "</style>\n",
       "<table border=\"1\" class=\"dataframe\">\n",
       "  <thead>\n",
       "    <tr style=\"text-align: right;\">\n",
       "      <th></th>\n",
       "      <th>Entity</th>\n",
       "      <th>Code</th>\n",
       "      <th>Child_mortality</th>\n",
       "    </tr>\n",
       "  </thead>\n",
       "  <tbody>\n",
       "    <tr>\n",
       "      <th>5528</th>\n",
       "      <td>Iceland</td>\n",
       "      <td>ISL</td>\n",
       "      <td>2.100</td>\n",
       "    </tr>\n",
       "    <tr>\n",
       "      <th>5217</th>\n",
       "      <td>Hong Kong</td>\n",
       "      <td>HKG</td>\n",
       "      <td>2.282</td>\n",
       "    </tr>\n",
       "    <tr>\n",
       "      <th>10883</th>\n",
       "      <td>Slovenia</td>\n",
       "      <td>SVN</td>\n",
       "      <td>2.300</td>\n",
       "    </tr>\n",
       "    <tr>\n",
       "      <th>4087</th>\n",
       "      <td>Finland</td>\n",
       "      <td>FIN</td>\n",
       "      <td>2.300</td>\n",
       "    </tr>\n",
       "    <tr>\n",
       "      <th>7229</th>\n",
       "      <td>Luxembourg</td>\n",
       "      <td>LUX</td>\n",
       "      <td>2.400</td>\n",
       "    </tr>\n",
       "  </tbody>\n",
       "</table>\n",
       "</div>"
      ],
      "text/plain": [
       "           Entity Code  Child_mortality\n",
       "5528      Iceland  ISL            2.100\n",
       "5217    Hong Kong  HKG            2.282\n",
       "10883    Slovenia  SVN            2.300\n",
       "4087      Finland  FIN            2.300\n",
       "7229   Luxembourg  LUX            2.400"
      ]
     },
     "execution_count": 109,
     "metadata": {},
     "output_type": "execute_result"
    }
   ],
   "source": [
    "# Check if 2017 is available for all countries\n",
    "df = child_mortality[child_mortality[\"Year\"] == 2016]\n",
    "df = df[[\"Entity\", \"Code\", \"Child_mortality\"]]  # Use only relevant columns\n",
    "df.sort_values(\"Child_mortality\", inplace=True)\n",
    "\n",
    "df.head()"
   ]
  },
  {
   "cell_type": "markdown",
   "metadata": {},
   "source": [
    "### TASK 3 : Plot this on the map. Create a Choropleth"
   ]
  },
  {
   "cell_type": "code",
   "execution_count": 110,
   "metadata": {},
   "outputs": [],
   "source": [
    "import folium\n",
    "from folium import Choropleth\n",
    "import geopandas as gpd"
   ]
  },
  {
   "cell_type": "code",
   "execution_count": 174,
   "metadata": {},
   "outputs": [
    {
     "name": "stdout",
     "output_type": "stream",
     "text": [
      "177\n"
     ]
    },
    {
     "data": {
      "text/html": [
       "<div>\n",
       "<style scoped>\n",
       "    .dataframe tbody tr th:only-of-type {\n",
       "        vertical-align: middle;\n",
       "    }\n",
       "\n",
       "    .dataframe tbody tr th {\n",
       "        vertical-align: top;\n",
       "    }\n",
       "\n",
       "    .dataframe thead th {\n",
       "        text-align: right;\n",
       "    }\n",
       "</style>\n",
       "<table border=\"1\" class=\"dataframe\">\n",
       "  <thead>\n",
       "    <tr style=\"text-align: right;\">\n",
       "      <th></th>\n",
       "      <th>pop_est</th>\n",
       "      <th>continent</th>\n",
       "      <th>name</th>\n",
       "      <th>iso_a3</th>\n",
       "      <th>gdp_md_est</th>\n",
       "      <th>geometry</th>\n",
       "    </tr>\n",
       "  </thead>\n",
       "  <tbody>\n",
       "    <tr>\n",
       "      <th>0</th>\n",
       "      <td>920938</td>\n",
       "      <td>Oceania</td>\n",
       "      <td>Fiji</td>\n",
       "      <td>FJI</td>\n",
       "      <td>8374.0</td>\n",
       "      <td>MULTIPOLYGON (((180.00000 -16.06713, 180.00000...</td>\n",
       "    </tr>\n",
       "    <tr>\n",
       "      <th>1</th>\n",
       "      <td>53950935</td>\n",
       "      <td>Africa</td>\n",
       "      <td>Tanzania</td>\n",
       "      <td>TZA</td>\n",
       "      <td>150600.0</td>\n",
       "      <td>POLYGON ((33.90371 -0.95000, 34.07262 -1.05982...</td>\n",
       "    </tr>\n",
       "    <tr>\n",
       "      <th>2</th>\n",
       "      <td>603253</td>\n",
       "      <td>Africa</td>\n",
       "      <td>W. Sahara</td>\n",
       "      <td>ESH</td>\n",
       "      <td>906.5</td>\n",
       "      <td>POLYGON ((-8.66559 27.65643, -8.66512 27.58948...</td>\n",
       "    </tr>\n",
       "    <tr>\n",
       "      <th>3</th>\n",
       "      <td>35623680</td>\n",
       "      <td>North America</td>\n",
       "      <td>Canada</td>\n",
       "      <td>CAN</td>\n",
       "      <td>1674000.0</td>\n",
       "      <td>MULTIPOLYGON (((-122.84000 49.00000, -122.9742...</td>\n",
       "    </tr>\n",
       "    <tr>\n",
       "      <th>4</th>\n",
       "      <td>326625791</td>\n",
       "      <td>North America</td>\n",
       "      <td>United States of America</td>\n",
       "      <td>USA</td>\n",
       "      <td>18560000.0</td>\n",
       "      <td>MULTIPOLYGON (((-122.84000 49.00000, -120.0000...</td>\n",
       "    </tr>\n",
       "  </tbody>\n",
       "</table>\n",
       "</div>"
      ],
      "text/plain": [
       "     pop_est      continent                      name iso_a3  gdp_md_est  \\\n",
       "0     920938        Oceania                      Fiji    FJI      8374.0   \n",
       "1   53950935         Africa                  Tanzania    TZA    150600.0   \n",
       "2     603253         Africa                 W. Sahara    ESH       906.5   \n",
       "3   35623680  North America                    Canada    CAN   1674000.0   \n",
       "4  326625791  North America  United States of America    USA  18560000.0   \n",
       "\n",
       "                                            geometry  \n",
       "0  MULTIPOLYGON (((180.00000 -16.06713, 180.00000...  \n",
       "1  POLYGON ((33.90371 -0.95000, 34.07262 -1.05982...  \n",
       "2  POLYGON ((-8.66559 27.65643, -8.66512 27.58948...  \n",
       "3  MULTIPOLYGON (((-122.84000 49.00000, -122.9742...  \n",
       "4  MULTIPOLYGON (((-122.84000 49.00000, -120.0000...  "
      ]
     },
     "execution_count": 174,
     "metadata": {},
     "output_type": "execute_result"
    }
   ],
   "source": [
    "worldfilepath = gpd.datasets.get_path('naturalearth_lowres')\n",
    "world = gpd.read_file(worldfilepath)\n",
    "print(len(world))\n",
    "world.head()"
   ]
  },
  {
   "cell_type": "code",
   "execution_count": 112,
   "metadata": {},
   "outputs": [
    {
     "data": {
      "text/html": [
       "<div>\n",
       "<style scoped>\n",
       "    .dataframe tbody tr th:only-of-type {\n",
       "        vertical-align: middle;\n",
       "    }\n",
       "\n",
       "    .dataframe tbody tr th {\n",
       "        vertical-align: top;\n",
       "    }\n",
       "\n",
       "    .dataframe thead th {\n",
       "        text-align: right;\n",
       "    }\n",
       "</style>\n",
       "<table border=\"1\" class=\"dataframe\">\n",
       "  <thead>\n",
       "    <tr style=\"text-align: right;\">\n",
       "      <th></th>\n",
       "      <th>Entity</th>\n",
       "      <th>iso_a3</th>\n",
       "      <th>Year</th>\n",
       "      <th>Child_mortality</th>\n",
       "    </tr>\n",
       "  </thead>\n",
       "  <tbody>\n",
       "    <tr>\n",
       "      <th>0</th>\n",
       "      <td>Afghanistan</td>\n",
       "      <td>AFG</td>\n",
       "      <td>1957</td>\n",
       "      <td>381.194</td>\n",
       "    </tr>\n",
       "    <tr>\n",
       "      <th>1</th>\n",
       "      <td>Afghanistan</td>\n",
       "      <td>AFG</td>\n",
       "      <td>1958</td>\n",
       "      <td>375.190</td>\n",
       "    </tr>\n",
       "    <tr>\n",
       "      <th>2</th>\n",
       "      <td>Afghanistan</td>\n",
       "      <td>AFG</td>\n",
       "      <td>1959</td>\n",
       "      <td>369.361</td>\n",
       "    </tr>\n",
       "    <tr>\n",
       "      <th>3</th>\n",
       "      <td>Afghanistan</td>\n",
       "      <td>AFG</td>\n",
       "      <td>1960</td>\n",
       "      <td>363.700</td>\n",
       "    </tr>\n",
       "    <tr>\n",
       "      <th>4</th>\n",
       "      <td>Afghanistan</td>\n",
       "      <td>AFG</td>\n",
       "      <td>1961</td>\n",
       "      <td>357.500</td>\n",
       "    </tr>\n",
       "  </tbody>\n",
       "</table>\n",
       "</div>"
      ],
      "text/plain": [
       "        Entity iso_a3  Year  Child_mortality\n",
       "0  Afghanistan    AFG  1957          381.194\n",
       "1  Afghanistan    AFG  1958          375.190\n",
       "2  Afghanistan    AFG  1959          369.361\n",
       "3  Afghanistan    AFG  1960          363.700\n",
       "4  Afghanistan    AFG  1961          357.500"
      ]
     },
     "execution_count": 112,
     "metadata": {},
     "output_type": "execute_result"
    }
   ],
   "source": [
    "child_mortality.rename(columns={\"Code\": \"iso_a3\"}, inplace=True)\n",
    "child_mortality.head()"
   ]
  },
  {
   "cell_type": "code",
   "execution_count": 113,
   "metadata": {},
   "outputs": [
    {
     "data": {
      "text/html": [
       "<div>\n",
       "<style scoped>\n",
       "    .dataframe tbody tr th:only-of-type {\n",
       "        vertical-align: middle;\n",
       "    }\n",
       "\n",
       "    .dataframe tbody tr th {\n",
       "        vertical-align: top;\n",
       "    }\n",
       "\n",
       "    .dataframe thead th {\n",
       "        text-align: right;\n",
       "    }\n",
       "</style>\n",
       "<table border=\"1\" class=\"dataframe\">\n",
       "  <thead>\n",
       "    <tr style=\"text-align: right;\">\n",
       "      <th></th>\n",
       "      <th>geometry</th>\n",
       "    </tr>\n",
       "    <tr>\n",
       "      <th>iso_a3</th>\n",
       "      <th></th>\n",
       "    </tr>\n",
       "  </thead>\n",
       "  <tbody>\n",
       "    <tr>\n",
       "      <th>AFG</th>\n",
       "      <td>POLYGON ((66.51861 37.36278, 67.07578 37.35614...</td>\n",
       "    </tr>\n",
       "    <tr>\n",
       "      <th>ALB</th>\n",
       "      <td>POLYGON ((21.02004 40.84273, 20.99999 40.58000...</td>\n",
       "    </tr>\n",
       "    <tr>\n",
       "      <th>DZA</th>\n",
       "      <td>POLYGON ((-8.68440 27.39574, -8.66512 27.58948...</td>\n",
       "    </tr>\n",
       "    <tr>\n",
       "      <th>AGO</th>\n",
       "      <td>MULTIPOLYGON (((12.99552 -4.78110, 12.63161 -4...</td>\n",
       "    </tr>\n",
       "    <tr>\n",
       "      <th>ARG</th>\n",
       "      <td>MULTIPOLYGON (((-68.63401 -52.63637, -68.25000...</td>\n",
       "    </tr>\n",
       "  </tbody>\n",
       "</table>\n",
       "</div>"
      ],
      "text/plain": [
       "                                                 geometry\n",
       "iso_a3                                                   \n",
       "AFG     POLYGON ((66.51861 37.36278, 67.07578 37.35614...\n",
       "ALB     POLYGON ((21.02004 40.84273, 20.99999 40.58000...\n",
       "DZA     POLYGON ((-8.68440 27.39574, -8.66512 27.58948...\n",
       "AGO     MULTIPOLYGON (((12.99552 -4.78110, 12.63161 -4...\n",
       "ARG     MULTIPOLYGON (((-68.63401 -52.63637, -68.25000..."
      ]
     },
     "execution_count": 113,
     "metadata": {},
     "output_type": "execute_result"
    }
   ],
   "source": [
    "df = child_mortality[child_mortality[\"Year\"] == 2016]\n",
    "df = df.merge(world, on=\"iso_a3\")\n",
    "\n",
    "c_m = df[[\"iso_a3\", \"Child_mortality\"]].set_index(\"iso_a3\")\n",
    "country_geometry = df[[\"iso_a3\", \"geometry\"]].set_index(\"iso_a3\")\n",
    "\n",
    "country_geom_gdf = gpd.GeoDataFrame(country_geometry, crs=\"EPSG:4326\")\n",
    "country_geom_gdf.head()"
   ]
  },
  {
   "cell_type": "code",
   "execution_count": 114,
   "metadata": {},
   "outputs": [
    {
     "data": {
      "text/html": [
       "\n",
       "        <iframe\n",
       "            width=\"100%\"\n",
       "            height=\"500px\"\n",
       "            src=\"Child_mortality-2016.html\"\n",
       "            frameborder=\"0\"\n",
       "            allowfullscreen\n",
       "        ></iframe>\n",
       "        "
      ],
      "text/plain": [
       "<IPython.lib.display.IFrame at 0x1c75dc05160>"
      ]
     },
     "execution_count": 114,
     "metadata": {},
     "output_type": "execute_result"
    }
   ],
   "source": [
    "# Finally, lets create the map\n",
    "m = folium.Map(location=[0.0, 0.0], tiles='openstreetmap', zoom_start=2)\n",
    "\n",
    "Choropleth(geo_data=country_geom_gdf.__geo_interface__,\n",
    "          data=c_m[\"Child_mortality\"], key_on='feature.id', fill_color='YlGnBu', legend_name='Child Mortality(2016)').add_to(m)\n",
    "\n",
    "embed_map(m, 'Child_mortality-2016.html')"
   ]
  },
  {
   "cell_type": "markdown",
   "metadata": {},
   "source": [
    "### TASK 4 : Compare this to how it was back in 1990"
   ]
  },
  {
   "cell_type": "code",
   "execution_count": 115,
   "metadata": {},
   "outputs": [],
   "source": [
    "# Get data for 1990\n",
    "data_1990 = child_mortality[child_mortality[\"Year\"] == 1990].copy()\n",
    "\n",
    "# Merge data to make sure only countries for which data is available are plotted\n",
    "merged_df = data_1990.merge(world, on=\"iso_a3\")\n",
    "\n",
    "# Convert to GeoDataFrame\n",
    "geom_1990 = gpd.GeoDataFrame(merged_df[[\"iso_a3\", \"geometry\"]].set_index(\"iso_a3\"), crs=\"EPSG:4326\")\n",
    "\n",
    "# 1990's data for child_mortality\n",
    "data = merged_df[[\"iso_a3\", \"Child_mortality\"]].set_index(\"iso_a3\")"
   ]
  },
  {
   "cell_type": "code",
   "execution_count": 116,
   "metadata": {},
   "outputs": [
    {
     "data": {
      "text/html": [
       "\n",
       "        <iframe\n",
       "            width=\"100%\"\n",
       "            height=\"500px\"\n",
       "            src=\"Child_mortality-1990.html\"\n",
       "            frameborder=\"0\"\n",
       "            allowfullscreen\n",
       "        ></iframe>\n",
       "        "
      ],
      "text/plain": [
       "<IPython.lib.display.IFrame at 0x1c75da840b8>"
      ]
     },
     "execution_count": 116,
     "metadata": {},
     "output_type": "execute_result"
    }
   ],
   "source": [
    "m = folium.Map(location=[0.0, 0.0], tiles='openstreetmap', zoom_start=2)\n",
    "Choropleth(geo_data=geom_1990.__geo_interface__, data=data[\"Child_mortality\"],\n",
    "          key_on='feature.id', fill_color='YlGnBu', legend_name=\"Child Mortality(1990)\").add_to(m)\n",
    "\n",
    "embed_map(m, 'Child_mortality-1990.html')"
   ]
  },
  {
   "cell_type": "markdown",
   "metadata": {},
   "source": [
    "#### Overall, the two maps look almost the same. Child mortality rate had reduced drastically since the 1990's(as you can see in the legend)"
   ]
  },
  {
   "cell_type": "markdown",
   "metadata": {},
   "source": [
    "### TASK 5 : Make a similar map with the plot corrsponding to the percentage of reduction in the child mortality rate. Use the first occurence and last occurence of data for each country "
   ]
  },
  {
   "cell_type": "code",
   "execution_count": 117,
   "metadata": {},
   "outputs": [],
   "source": [
    "# First merge the two dataframes\n",
    "merged = child_mortality.merge(world, on=\"iso_a3\")"
   ]
  },
  {
   "cell_type": "code",
   "execution_count": 118,
   "metadata": {},
   "outputs": [
    {
     "name": "stdout",
     "output_type": "stream",
     "text": [
      "167\n"
     ]
    },
    {
     "data": {
      "text/html": [
       "<div>\n",
       "<style scoped>\n",
       "    .dataframe tbody tr th:only-of-type {\n",
       "        vertical-align: middle;\n",
       "    }\n",
       "\n",
       "    .dataframe tbody tr th {\n",
       "        vertical-align: top;\n",
       "    }\n",
       "\n",
       "    .dataframe thead tr th {\n",
       "        text-align: left;\n",
       "    }\n",
       "\n",
       "    .dataframe thead tr:last-of-type th {\n",
       "        text-align: right;\n",
       "    }\n",
       "</style>\n",
       "<table border=\"1\" class=\"dataframe\">\n",
       "  <thead>\n",
       "    <tr>\n",
       "      <th></th>\n",
       "      <th colspan=\"2\" halign=\"left\">Child_mortality</th>\n",
       "      <th colspan=\"2\" halign=\"left\">Year</th>\n",
       "      <th>Percentage</th>\n",
       "      <th>Year_diff</th>\n",
       "      <th>Percentage_per_year</th>\n",
       "    </tr>\n",
       "    <tr>\n",
       "      <th></th>\n",
       "      <th>first</th>\n",
       "      <th>last</th>\n",
       "      <th>first</th>\n",
       "      <th>last</th>\n",
       "      <th></th>\n",
       "      <th></th>\n",
       "      <th></th>\n",
       "    </tr>\n",
       "    <tr>\n",
       "      <th>iso_a3</th>\n",
       "      <th></th>\n",
       "      <th></th>\n",
       "      <th></th>\n",
       "      <th></th>\n",
       "      <th></th>\n",
       "      <th></th>\n",
       "      <th></th>\n",
       "    </tr>\n",
       "  </thead>\n",
       "  <tbody>\n",
       "    <tr>\n",
       "      <th>AFG</th>\n",
       "      <td>381.194</td>\n",
       "      <td>70.4</td>\n",
       "      <td>1957</td>\n",
       "      <td>2016</td>\n",
       "      <td>81.531714</td>\n",
       "      <td>59</td>\n",
       "      <td>1.381893</td>\n",
       "    </tr>\n",
       "    <tr>\n",
       "      <th>AGO</th>\n",
       "      <td>236.400</td>\n",
       "      <td>82.5</td>\n",
       "      <td>1980</td>\n",
       "      <td>2016</td>\n",
       "      <td>65.101523</td>\n",
       "      <td>36</td>\n",
       "      <td>1.808376</td>\n",
       "    </tr>\n",
       "    <tr>\n",
       "      <th>ALB</th>\n",
       "      <td>90.800</td>\n",
       "      <td>13.5</td>\n",
       "      <td>1978</td>\n",
       "      <td>2016</td>\n",
       "      <td>85.132159</td>\n",
       "      <td>38</td>\n",
       "      <td>2.240320</td>\n",
       "    </tr>\n",
       "    <tr>\n",
       "      <th>ARE</th>\n",
       "      <td>204.200</td>\n",
       "      <td>7.7</td>\n",
       "      <td>1960</td>\n",
       "      <td>2016</td>\n",
       "      <td>96.229187</td>\n",
       "      <td>56</td>\n",
       "      <td>1.718378</td>\n",
       "    </tr>\n",
       "    <tr>\n",
       "      <th>ARG</th>\n",
       "      <td>238.820</td>\n",
       "      <td>11.1</td>\n",
       "      <td>1911</td>\n",
       "      <td>2016</td>\n",
       "      <td>95.352148</td>\n",
       "      <td>105</td>\n",
       "      <td>0.908116</td>\n",
       "    </tr>\n",
       "  </tbody>\n",
       "</table>\n",
       "</div>"
      ],
      "text/plain": [
       "       Child_mortality        Year       Percentage Year_diff  \\\n",
       "                 first  last first  last                        \n",
       "iso_a3                                                          \n",
       "AFG            381.194  70.4  1957  2016  81.531714        59   \n",
       "AGO            236.400  82.5  1980  2016  65.101523        36   \n",
       "ALB             90.800  13.5  1978  2016  85.132159        38   \n",
       "ARE            204.200   7.7  1960  2016  96.229187        56   \n",
       "ARG            238.820  11.1  1911  2016  95.352148       105   \n",
       "\n",
       "       Percentage_per_year  \n",
       "                            \n",
       "iso_a3                      \n",
       "AFG               1.381893  \n",
       "AGO               1.808376  \n",
       "ALB               2.240320  \n",
       "ARE               1.718378  \n",
       "ARG               0.908116  "
      ]
     },
     "execution_count": 118,
     "metadata": {},
     "output_type": "execute_result"
    }
   ],
   "source": [
    "# child_mortality.groupby(\"iso_a3\").apply()\n",
    "reduction = merged.groupby('iso_a3')[['Child_mortality', 'Year']].agg(['first', 'last'])\n",
    "\n",
    "# Find the reduction in child mortality\n",
    "reduction[\"Percentage\"] = (reduction['Child_mortality'][\"last\"]\n",
    "                           - reduction['Child_mortality']['first'])* -100.0 / reduction['Child_mortality']['first']\n",
    "reduction[\"Year_diff\"] = reduction[\"Year\"][\"last\"] - reduction['Year']['first']\n",
    "\n",
    "reduction['Percentage_per_year'] = reduction['Percentage'] / reduction['Year_diff']\n",
    "\n",
    "print(len(reduction))\n",
    "reduction.head()"
   ]
  },
  {
   "cell_type": "markdown",
   "metadata": {},
   "source": [
    "#### Now plot the percentage on the choropleth. This would tell us how the rates of child mortality have dropped across different regions.\n",
    "As data is available from different start points, some of the countries might not be representative of the actual drop they have experienced. Eg. Russia - dat available from 2012, where the child mortality is already quite small. So, we will plot the percentage reduction per year for which data is available"
   ]
  },
  {
   "cell_type": "code",
   "execution_count": 176,
   "metadata": {},
   "outputs": [
    {
     "name": "stdout",
     "output_type": "stream",
     "text": [
      "167\n"
     ]
    },
    {
     "data": {
      "text/html": [
       "<div>\n",
       "<style scoped>\n",
       "    .dataframe tbody tr th:only-of-type {\n",
       "        vertical-align: middle;\n",
       "    }\n",
       "\n",
       "    .dataframe tbody tr th {\n",
       "        vertical-align: top;\n",
       "    }\n",
       "\n",
       "    .dataframe thead th {\n",
       "        text-align: right;\n",
       "    }\n",
       "</style>\n",
       "<table border=\"1\" class=\"dataframe\">\n",
       "  <thead>\n",
       "    <tr style=\"text-align: right;\">\n",
       "      <th></th>\n",
       "      <th>geometry</th>\n",
       "    </tr>\n",
       "    <tr>\n",
       "      <th>iso_a3</th>\n",
       "      <th></th>\n",
       "    </tr>\n",
       "  </thead>\n",
       "  <tbody>\n",
       "    <tr>\n",
       "      <th>AFG</th>\n",
       "      <td>POLYGON ((66.51861 37.36278, 67.07578 37.35614...</td>\n",
       "    </tr>\n",
       "    <tr>\n",
       "      <th>ALB</th>\n",
       "      <td>POLYGON ((21.02004 40.84273, 20.99999 40.58000...</td>\n",
       "    </tr>\n",
       "    <tr>\n",
       "      <th>DZA</th>\n",
       "      <td>POLYGON ((-8.68440 27.39574, -8.66512 27.58948...</td>\n",
       "    </tr>\n",
       "    <tr>\n",
       "      <th>AGO</th>\n",
       "      <td>MULTIPOLYGON (((12.99552 -4.78110, 12.63161 -4...</td>\n",
       "    </tr>\n",
       "    <tr>\n",
       "      <th>ARG</th>\n",
       "      <td>MULTIPOLYGON (((-68.63401 -52.63637, -68.25000...</td>\n",
       "    </tr>\n",
       "  </tbody>\n",
       "</table>\n",
       "</div>"
      ],
      "text/plain": [
       "                                                 geometry\n",
       "iso_a3                                                   \n",
       "AFG     POLYGON ((66.51861 37.36278, 67.07578 37.35614...\n",
       "ALB     POLYGON ((21.02004 40.84273, 20.99999 40.58000...\n",
       "DZA     POLYGON ((-8.68440 27.39574, -8.66512 27.58948...\n",
       "AGO     MULTIPOLYGON (((12.99552 -4.78110, 12.63161 -4...\n",
       "ARG     MULTIPOLYGON (((-68.63401 -52.63637, -68.25000..."
      ]
     },
     "execution_count": 176,
     "metadata": {},
     "output_type": "execute_result"
    }
   ],
   "source": [
    "# Create the GeoDataFrame\n",
    "geometry_data = merged[merged[\"Year\"] == 2016]\n",
    "geometry_data = geometry_data[[\"iso_a3\", \"geometry\"]].set_index(\"iso_a3\")\n",
    "\n",
    "geometry_data_gdf = gpd.GeoDataFrame(geometry_data, crs=\"EPSG:4326\")\n",
    "\n",
    "print(len(geometry_data_gdf))\n",
    "geometry_data_gdf.head()"
   ]
  },
  {
   "cell_type": "code",
   "execution_count": 120,
   "metadata": {},
   "outputs": [
    {
     "data": {
      "text/html": [
       "\n",
       "        <iframe\n",
       "            width=\"100%\"\n",
       "            height=\"500px\"\n",
       "            src=\"Child_mortality_percentage_reduction.html\"\n",
       "            frameborder=\"0\"\n",
       "            allowfullscreen\n",
       "        ></iframe>\n",
       "        "
      ],
      "text/plain": [
       "<IPython.lib.display.IFrame at 0x1c75dd6aa58>"
      ]
     },
     "execution_count": 120,
     "metadata": {},
     "output_type": "execute_result"
    }
   ],
   "source": [
    "# Finally, create the base map and the Choropleth\n",
    "m = folium.Map(location=[0.0, 0.0], tiles='openstreetmap', zoom_start=2)\n",
    "\n",
    "# Choropleth\n",
    "Choropleth(geo_data=geometry_data_gdf.__geo_interface__, data=reduction['Percentage'],\n",
    "          key_on='feature.id', fill_color='YlGnBu', legend_name=\"Percentage reduction in Child Mortality\").add_to(m)\n",
    "\n",
    "m_1 = folium.Map(location=[0.0, 0.0], tiles='openstreetmap', zoom_start=2)\n",
    "\n",
    "# Choropleth\n",
    "Choropleth(geo_data=geometry_data_gdf.__geo_interface__, data=reduction['Percentage_per_year'],\n",
    "          key_on='feature.id', fill_color='YlGnBu', legend_name=\"Percentage reduction in Child Mortality\").add_to(m_1)\n",
    "\n",
    "embed_map(m, \"Child_mortality_percentage_reduction.html\")"
   ]
  },
  {
   "cell_type": "code",
   "execution_count": 121,
   "metadata": {},
   "outputs": [
    {
     "data": {
      "text/html": [
       "\n",
       "        <iframe\n",
       "            width=\"100%\"\n",
       "            height=\"500px\"\n",
       "            src=\"Child_mortality_percentage_reduction_per_year.html\"\n",
       "            frameborder=\"0\"\n",
       "            allowfullscreen\n",
       "        ></iframe>\n",
       "        "
      ],
      "text/plain": [
       "<IPython.lib.display.IFrame at 0x1c75dd33898>"
      ]
     },
     "execution_count": 121,
     "metadata": {},
     "output_type": "execute_result"
    }
   ],
   "source": [
    "embed_map(m_1, 'Child_mortality_percentage_reduction_per_year.html')"
   ]
  },
  {
   "cell_type": "markdown",
   "metadata": {},
   "source": [
    "### Lets create a time slider choropleth which plots the transition of child mortality over the years"
   ]
  },
  {
   "cell_type": "code",
   "execution_count": 122,
   "metadata": {},
   "outputs": [
    {
     "data": {
      "text/plain": [
       "array([  2.1  ,  70.098, 138.096, 206.094, 274.092, 342.09 , 410.088,\n",
       "       478.086, 546.084, 614.082, 682.08 ])"
      ]
     },
     "execution_count": 122,
     "metadata": {},
     "output_type": "execute_result"
    }
   ],
   "source": [
    "# creating 11 bins to check values of child_mortality\n",
    "bins = np.linspace(min(child_mortality['Child_mortality']), max(child_mortality['Child_mortality']), 11)\n",
    "bins"
   ]
  },
  {
   "cell_type": "code",
   "execution_count": 123,
   "metadata": {},
   "outputs": [
    {
     "data": {
      "text/plain": [
       "#FFEBEB    6480\n",
       "#F8D2D4    2619\n",
       "#F2B9BE    1766\n",
       "#EBA1A8    1371\n",
       "#E58892     827\n",
       "#DE6F7C     303\n",
       "#D85766      97\n",
       "#D13E50      38\n",
       "#C50D24       5\n",
       "#CB253A       5\n",
       "Name: color, dtype: int64"
      ]
     },
     "execution_count": 123,
     "metadata": {},
     "output_type": "execute_result"
    }
   ],
   "source": [
    "child_mortality['color'] = pd.cut(\n",
    "    child_mortality['Child_mortality'], bins,\n",
    "    labels=['#FFEBEB','#F8D2D4','#F2B9BE','#EBA1A8','#E58892','#DE6F7C','#D85766','#D13E50','#CB253A','#C50D24'],\n",
    "    include_lowest=False)\n",
    "child_mortality['color'].replace(np.nan, '#32CD32', inplace=True)\n",
    "child_mortality.color.value_counts()"
   ]
  },
  {
   "cell_type": "code",
   "execution_count": 124,
   "metadata": {},
   "outputs": [
    {
     "data": {
      "text/html": [
       "<div>\n",
       "<style scoped>\n",
       "    .dataframe tbody tr th:only-of-type {\n",
       "        vertical-align: middle;\n",
       "    }\n",
       "\n",
       "    .dataframe tbody tr th {\n",
       "        vertical-align: top;\n",
       "    }\n",
       "\n",
       "    .dataframe thead th {\n",
       "        text-align: right;\n",
       "    }\n",
       "</style>\n",
       "<table border=\"1\" class=\"dataframe\">\n",
       "  <thead>\n",
       "    <tr style=\"text-align: right;\">\n",
       "      <th></th>\n",
       "      <th>iso_a3</th>\n",
       "      <th>Year</th>\n",
       "      <th>color</th>\n",
       "    </tr>\n",
       "  </thead>\n",
       "  <tbody>\n",
       "    <tr>\n",
       "      <th>0</th>\n",
       "      <td>AFG</td>\n",
       "      <td>1957</td>\n",
       "      <td>#DE6F7C</td>\n",
       "    </tr>\n",
       "    <tr>\n",
       "      <th>1</th>\n",
       "      <td>AFG</td>\n",
       "      <td>1958</td>\n",
       "      <td>#DE6F7C</td>\n",
       "    </tr>\n",
       "    <tr>\n",
       "      <th>2</th>\n",
       "      <td>AFG</td>\n",
       "      <td>1959</td>\n",
       "      <td>#DE6F7C</td>\n",
       "    </tr>\n",
       "    <tr>\n",
       "      <th>3</th>\n",
       "      <td>AFG</td>\n",
       "      <td>1960</td>\n",
       "      <td>#DE6F7C</td>\n",
       "    </tr>\n",
       "    <tr>\n",
       "      <th>4</th>\n",
       "      <td>AFG</td>\n",
       "      <td>1961</td>\n",
       "      <td>#DE6F7C</td>\n",
       "    </tr>\n",
       "  </tbody>\n",
       "</table>\n",
       "</div>"
      ],
      "text/plain": [
       "  iso_a3  Year    color\n",
       "0    AFG  1957  #DE6F7C\n",
       "1    AFG  1958  #DE6F7C\n",
       "2    AFG  1959  #DE6F7C\n",
       "3    AFG  1960  #DE6F7C\n",
       "4    AFG  1961  #DE6F7C"
      ]
     },
     "execution_count": 124,
     "metadata": {},
     "output_type": "execute_result"
    }
   ],
   "source": [
    "plot_data = child_mortality[[\"iso_a3\", \"Year\", \"color\"]]\n",
    "plot_data.head()"
   ]
  },
  {
   "cell_type": "code",
   "execution_count": 125,
   "metadata": {},
   "outputs": [
    {
     "data": {
      "text/html": [
       "<div>\n",
       "<style scoped>\n",
       "    .dataframe tbody tr th:only-of-type {\n",
       "        vertical-align: middle;\n",
       "    }\n",
       "\n",
       "    .dataframe tbody tr th {\n",
       "        vertical-align: top;\n",
       "    }\n",
       "\n",
       "    .dataframe thead th {\n",
       "        text-align: right;\n",
       "    }\n",
       "</style>\n",
       "<table border=\"1\" class=\"dataframe\">\n",
       "  <thead>\n",
       "    <tr style=\"text-align: right;\">\n",
       "      <th></th>\n",
       "      <th>iso_a3</th>\n",
       "      <th>Year</th>\n",
       "      <th>color</th>\n",
       "    </tr>\n",
       "  </thead>\n",
       "  <tbody>\n",
       "    <tr>\n",
       "      <th>11491</th>\n",
       "      <td>SWE</td>\n",
       "      <td>1800</td>\n",
       "      <td>#DE6F7C</td>\n",
       "    </tr>\n",
       "    <tr>\n",
       "      <th>44661</th>\n",
       "      <td>MYT</td>\n",
       "      <td>1800</td>\n",
       "      <td>#0073CF</td>\n",
       "    </tr>\n",
       "    <tr>\n",
       "      <th>44662</th>\n",
       "      <td>AGO</td>\n",
       "      <td>1800</td>\n",
       "      <td>#0073CF</td>\n",
       "    </tr>\n",
       "    <tr>\n",
       "      <th>44663</th>\n",
       "      <td>CAF</td>\n",
       "      <td>1800</td>\n",
       "      <td>#0073CF</td>\n",
       "    </tr>\n",
       "    <tr>\n",
       "      <th>44664</th>\n",
       "      <td>AUT</td>\n",
       "      <td>1800</td>\n",
       "      <td>#0073CF</td>\n",
       "    </tr>\n",
       "  </tbody>\n",
       "</table>\n",
       "</div>"
      ],
      "text/plain": [
       "      iso_a3  Year    color\n",
       "11491    SWE  1800  #DE6F7C\n",
       "44661    MYT  1800  #0073CF\n",
       "44662    AGO  1800  #0073CF\n",
       "44663    CAF  1800  #0073CF\n",
       "44664    AUT  1800  #0073CF"
      ]
     },
     "execution_count": 125,
     "metadata": {},
     "output_type": "execute_result"
    }
   ],
   "source": [
    "# Now add rows for countries which do not have recordings for a particular year\n",
    "for year in plot_data['Year'].unique():\n",
    "    diff = set(plot_data['iso_a3'].unique()) - set(plot_data[plot_data['Year'] == year]['iso_a3'])\n",
    "    for country in diff:\n",
    "        plot_data = pd.concat([plot_data, pd.DataFrame([[country, year, '#0073CF']], columns=['iso_a3', 'Year', 'color'])],\n",
    "                              ignore_index=True)\n",
    "plot_data.sort_values('Year', inplace=True)\n",
    "plot_data.head()"
   ]
  },
  {
   "cell_type": "code",
   "execution_count": 177,
   "metadata": {},
   "outputs": [
    {
     "data": {
      "text/plain": [
       "167"
      ]
     },
     "execution_count": 177,
     "metadata": {},
     "output_type": "execute_result"
    }
   ],
   "source": [
    "p_data = plot_data.copy()\n",
    "# p_data = p_data[(p_data['Year'] > 1799)]\n",
    "p_data['Year'] = pd.to_datetime(p_data.Year, format='%Y')\n",
    "\n",
    "p_data['Year'] = (p_data['Year'].astype(np.int64) // 10**9)\n",
    "\n",
    "plot_dict = {}\n",
    "for i in p_data['iso_a3'].unique():\n",
    "    if i in geometry_data.index:\n",
    "        plot_dict[i] = {}\n",
    "        for j in p_data[p_data['iso_a3'] == i].set_index(['iso_a3']).values:\n",
    "            plot_dict[i][j[0]] = {'color': j[1], 'opacity': 0.7 }\n",
    "\n",
    "len(list(plot_dict.items()))"
   ]
  },
  {
   "cell_type": "code",
   "execution_count": 183,
   "metadata": {},
   "outputs": [],
   "source": [
    "# Merge the two data frames to get rows which are available in both\n",
    "# geometry_data = plot_data[plot_data['Year'] == 2016].merge(geometry_data, on='iso_a3')\n",
    "# geometry_data = geometry_data[[\"iso_a3\", \"geometry\"]].set_index(\"iso_a3\")\n",
    "\n",
    "geometry_gdf = gpd.GeoDataFrame(geometry_data, crs='EPSG:4326')\n",
    "\n",
    "\n",
    "# print(len(geometry_data))\n",
    "# geometry_data.head()"
   ]
  },
  {
   "cell_type": "code",
   "execution_count": 186,
   "metadata": {
    "scrolled": false
   },
   "outputs": [
    {
     "data": {
      "text/html": [
       "\n",
       "        <iframe\n",
       "            width=\"100%\"\n",
       "            height=\"500px\"\n",
       "            src=\"time_slider_choropleth.html\"\n",
       "            frameborder=\"0\"\n",
       "            allowfullscreen\n",
       "        ></iframe>\n",
       "        "
      ],
      "text/plain": [
       "<IPython.lib.display.IFrame at 0x1c75dac3748>"
      ]
     },
     "execution_count": 186,
     "metadata": {},
     "output_type": "execute_result"
    }
   ],
   "source": [
    "from folium.plugins import TimeSliderChoropleth\n",
    "# geometry_data = geometry_data[geometry_data.index == 'IND']\n",
    "\n",
    "m = folium.Map(location=[0.0, 0.0], tiles='openstreetmap', zoom_start=2)\n",
    "time_slider = TimeSliderChoropleth(geometry_gdf.to_json(),\n",
    "                                  styledict=plot_dict).add_to(m)\n",
    "embed_map(m, 'time_slider_choropleth.html')"
   ]
  },
  {
   "cell_type": "code",
   "execution_count": 2,
   "metadata": {},
   "outputs": [],
   "source": [
    "import pandas as pd\n",
    "import geopandas as gpd\n",
    "import folium\n",
    "from folium import Choropleth"
   ]
  },
  {
   "cell_type": "code",
   "execution_count": 4,
   "metadata": {},
   "outputs": [
    {
     "data": {
      "text/html": [
       "<div>\n",
       "<style scoped>\n",
       "    .dataframe tbody tr th:only-of-type {\n",
       "        vertical-align: middle;\n",
       "    }\n",
       "\n",
       "    .dataframe tbody tr th {\n",
       "        vertical-align: top;\n",
       "    }\n",
       "\n",
       "    .dataframe thead th {\n",
       "        text-align: right;\n",
       "    }\n",
       "</style>\n",
       "<table border=\"1\" class=\"dataframe\">\n",
       "  <thead>\n",
       "    <tr style=\"text-align: right;\">\n",
       "      <th></th>\n",
       "      <th>Entity</th>\n",
       "      <th>Code</th>\n",
       "      <th>Year</th>\n",
       "      <th>Total population (Gapminder, HYDE &amp; UN)</th>\n",
       "      <th>Continent</th>\n",
       "      <th>GDP per capita, PPP (constant 2011 international $)</th>\n",
       "      <th>Health expenditure per capita, PPP (constant 2011 international $)</th>\n",
       "    </tr>\n",
       "  </thead>\n",
       "  <tbody>\n",
       "    <tr>\n",
       "      <th>0</th>\n",
       "      <td>Abkhazia</td>\n",
       "      <td>OWID_ABK</td>\n",
       "      <td>2015</td>\n",
       "      <td>NaN</td>\n",
       "      <td>Asia</td>\n",
       "      <td>NaN</td>\n",
       "      <td>NaN</td>\n",
       "    </tr>\n",
       "    <tr>\n",
       "      <th>1</th>\n",
       "      <td>Afghanistan</td>\n",
       "      <td>AFG</td>\n",
       "      <td>1800</td>\n",
       "      <td>3280000.0</td>\n",
       "      <td>NaN</td>\n",
       "      <td>NaN</td>\n",
       "      <td>NaN</td>\n",
       "    </tr>\n",
       "    <tr>\n",
       "      <th>2</th>\n",
       "      <td>Afghanistan</td>\n",
       "      <td>AFG</td>\n",
       "      <td>1801</td>\n",
       "      <td>3280000.0</td>\n",
       "      <td>NaN</td>\n",
       "      <td>NaN</td>\n",
       "      <td>NaN</td>\n",
       "    </tr>\n",
       "    <tr>\n",
       "      <th>3</th>\n",
       "      <td>Afghanistan</td>\n",
       "      <td>AFG</td>\n",
       "      <td>1802</td>\n",
       "      <td>3280000.0</td>\n",
       "      <td>NaN</td>\n",
       "      <td>NaN</td>\n",
       "      <td>NaN</td>\n",
       "    </tr>\n",
       "    <tr>\n",
       "      <th>4</th>\n",
       "      <td>Afghanistan</td>\n",
       "      <td>AFG</td>\n",
       "      <td>1803</td>\n",
       "      <td>3280000.0</td>\n",
       "      <td>NaN</td>\n",
       "      <td>NaN</td>\n",
       "      <td>NaN</td>\n",
       "    </tr>\n",
       "  </tbody>\n",
       "</table>\n",
       "</div>"
      ],
      "text/plain": [
       "        Entity      Code  Year  ...  Continent GDP per capita, PPP (constant 2011 international $)  Health expenditure per capita, PPP (constant 2011 international $)\n",
       "0     Abkhazia  OWID_ABK  2015  ...       Asia                                                NaN                                                 NaN                 \n",
       "1  Afghanistan       AFG  1800  ...        NaN                                                NaN                                                 NaN                 \n",
       "2  Afghanistan       AFG  1801  ...        NaN                                                NaN                                                 NaN                 \n",
       "3  Afghanistan       AFG  1802  ...        NaN                                                NaN                                                 NaN                 \n",
       "4  Afghanistan       AFG  1803  ...        NaN                                                NaN                                                 NaN                 \n",
       "\n",
       "[5 rows x 7 columns]"
      ]
     },
     "execution_count": 4,
     "metadata": {},
     "output_type": "execute_result"
    }
   ],
   "source": [
    "# Read Expenditure data\n",
    "expenditure = pd.read_csv('data/healthcare-expenditure-vs-gdp.csv')\n",
    "expenditure.head()"
   ]
  },
  {
   "cell_type": "code",
   "execution_count": 6,
   "metadata": {},
   "outputs": [
    {
     "data": {
      "text/html": [
       "<div>\n",
       "<style scoped>\n",
       "    .dataframe tbody tr th:only-of-type {\n",
       "        vertical-align: middle;\n",
       "    }\n",
       "\n",
       "    .dataframe tbody tr th {\n",
       "        vertical-align: top;\n",
       "    }\n",
       "\n",
       "    .dataframe thead th {\n",
       "        text-align: right;\n",
       "    }\n",
       "</style>\n",
       "<table border=\"1\" class=\"dataframe\">\n",
       "  <thead>\n",
       "    <tr style=\"text-align: right;\">\n",
       "      <th></th>\n",
       "      <th>Entity</th>\n",
       "      <th>Code</th>\n",
       "      <th>Year</th>\n",
       "      <th>Population</th>\n",
       "      <th>Continent</th>\n",
       "      <th>GDP</th>\n",
       "      <th>Expenditure</th>\n",
       "    </tr>\n",
       "  </thead>\n",
       "  <tbody>\n",
       "    <tr>\n",
       "      <th>203</th>\n",
       "      <td>Afghanistan</td>\n",
       "      <td>AFG</td>\n",
       "      <td>2002</td>\n",
       "      <td>22601000.0</td>\n",
       "      <td>NaN</td>\n",
       "      <td>1063.635574</td>\n",
       "      <td>75.983514</td>\n",
       "    </tr>\n",
       "    <tr>\n",
       "      <th>204</th>\n",
       "      <td>Afghanistan</td>\n",
       "      <td>AFG</td>\n",
       "      <td>2003</td>\n",
       "      <td>23681000.0</td>\n",
       "      <td>NaN</td>\n",
       "      <td>1099.194507</td>\n",
       "      <td>89.440178</td>\n",
       "    </tr>\n",
       "    <tr>\n",
       "      <th>205</th>\n",
       "      <td>Afghanistan</td>\n",
       "      <td>AFG</td>\n",
       "      <td>2004</td>\n",
       "      <td>24727000.0</td>\n",
       "      <td>NaN</td>\n",
       "      <td>1062.249360</td>\n",
       "      <td>87.520903</td>\n",
       "    </tr>\n",
       "    <tr>\n",
       "      <th>206</th>\n",
       "      <td>Afghanistan</td>\n",
       "      <td>AFG</td>\n",
       "      <td>2005</td>\n",
       "      <td>25654000.0</td>\n",
       "      <td>NaN</td>\n",
       "      <td>1136.123214</td>\n",
       "      <td>88.323062</td>\n",
       "    </tr>\n",
       "    <tr>\n",
       "      <th>207</th>\n",
       "      <td>Afghanistan</td>\n",
       "      <td>AFG</td>\n",
       "      <td>2006</td>\n",
       "      <td>26433000.0</td>\n",
       "      <td>NaN</td>\n",
       "      <td>1161.124889</td>\n",
       "      <td>86.856016</td>\n",
       "    </tr>\n",
       "  </tbody>\n",
       "</table>\n",
       "</div>"
      ],
      "text/plain": [
       "          Entity Code  Year  Population Continent          GDP  Expenditure\n",
       "203  Afghanistan  AFG  2002  22601000.0       NaN  1063.635574    75.983514\n",
       "204  Afghanistan  AFG  2003  23681000.0       NaN  1099.194507    89.440178\n",
       "205  Afghanistan  AFG  2004  24727000.0       NaN  1062.249360    87.520903\n",
       "206  Afghanistan  AFG  2005  25654000.0       NaN  1136.123214    88.323062\n",
       "207  Afghanistan  AFG  2006  26433000.0       NaN  1161.124889    86.856016"
      ]
     },
     "execution_count": 6,
     "metadata": {},
     "output_type": "execute_result"
    }
   ],
   "source": [
    "# Clean up data\n",
    "expenditure.rename(columns={'Total population (Gapminder, HYDE & UN)': 'Population',\n",
    "                            'GDP per capita, PPP (constant 2011 international $)': 'GDP',\n",
    "                            'Health expenditure per capita, PPP (constant 2011 international $)': 'Expenditure'}, inplace=True)\n",
    "expenditure = expenditure[(expenditure['GDP'].notna() & expenditure['Expenditure'].notna())]\n",
    "expenditure.head()"
   ]
  },
  {
   "cell_type": "code",
   "execution_count": 8,
   "metadata": {},
   "outputs": [
    {
     "data": {
      "text/plain": [
       "2011    231\n",
       "2010    230\n",
       "2008    230\n",
       "2012    230\n",
       "2009    230\n",
       "2007    230\n",
       "2013    230\n",
       "2014    230\n",
       "2006    229\n",
       "2005    229\n",
       "2003    229\n",
       "2004    229\n",
       "2002    228\n",
       "2001    227\n",
       "2000    226\n",
       "1999    220\n",
       "1998    219\n",
       "1997    218\n",
       "1996    216\n",
       "1995    214\n",
       "Name: Year, dtype: int64"
      ]
     },
     "execution_count": 8,
     "metadata": {},
     "output_type": "execute_result"
    }
   ],
   "source": [
    "# Find counts of Year. This would tell us which year has all the required data available\n",
    "expenditure.Year.value_counts()"
   ]
  },
  {
   "cell_type": "code",
   "execution_count": null,
   "metadata": {},
   "outputs": [],
   "source": []
  },
  {
   "cell_type": "code",
   "execution_count": null,
   "metadata": {},
   "outputs": [],
   "source": []
  },
  {
   "cell_type": "code",
   "execution_count": null,
   "metadata": {},
   "outputs": [],
   "source": []
  },
  {
   "cell_type": "code",
   "execution_count": null,
   "metadata": {},
   "outputs": [],
   "source": []
  },
  {
   "cell_type": "code",
   "execution_count": null,
   "metadata": {},
   "outputs": [],
   "source": []
  },
  {
   "cell_type": "code",
   "execution_count": null,
   "metadata": {},
   "outputs": [],
   "source": []
  },
  {
   "cell_type": "code",
   "execution_count": null,
   "metadata": {},
   "outputs": [],
   "source": []
  },
  {
   "cell_type": "code",
   "execution_count": null,
   "metadata": {},
   "outputs": [],
   "source": []
  }
 ],
 "metadata": {
  "kernelspec": {
   "display_name": "Python 3",
   "language": "python",
   "name": "python3"
  },
  "language_info": {
   "codemirror_mode": {
    "name": "ipython",
    "version": 3
   },
   "file_extension": ".py",
   "mimetype": "text/x-python",
   "name": "python",
   "nbconvert_exporter": "python",
   "pygments_lexer": "ipython3",
   "version": "3.6.4"
  }
 },
 "nbformat": 4,
 "nbformat_minor": 2
}
