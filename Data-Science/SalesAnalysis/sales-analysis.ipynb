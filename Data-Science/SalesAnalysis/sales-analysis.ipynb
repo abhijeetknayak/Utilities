{
 "cells": [
  {
   "cell_type": "markdown",
   "metadata": {},
   "source": [
    "### TASK 1 : Merge all csv files into one data frame"
   ]
  },
  {
   "cell_type": "code",
   "execution_count": 10,
   "metadata": {},
   "outputs": [
    {
     "name": "stdout",
     "output_type": "stream",
     "text": [
      "(186850, 6)\n"
     ]
    }
   ],
   "source": [
    "import pandas as pd\n",
    "import glob\n",
    "\n",
    "''' TASK 1 : Merge 12 csv files into one data frame'''\n",
    "all_months_data = pd.DataFrame()\n",
    "\n",
    "for file in glob.glob('Sales_Data/*.csv'):\n",
    "    temp = pd.read_csv(file)\n",
    "    all_months_data = pd.concat((all_months_data, temp))\n",
    "    \n",
    "print(all_months_data.shape)\n",
    "all_months_data.head()  \n",
    "\n",
    "all_months_data.to_csv(\"all_data.csv\", index=False)"
   ]
  },
  {
   "cell_type": "code",
   "execution_count": 133,
   "metadata": {},
   "outputs": [
    {
     "data": {
      "text/html": [
       "<div>\n",
       "<style scoped>\n",
       "    .dataframe tbody tr th:only-of-type {\n",
       "        vertical-align: middle;\n",
       "    }\n",
       "\n",
       "    .dataframe tbody tr th {\n",
       "        vertical-align: top;\n",
       "    }\n",
       "\n",
       "    .dataframe thead th {\n",
       "        text-align: right;\n",
       "    }\n",
       "</style>\n",
       "<table border=\"1\" class=\"dataframe\">\n",
       "  <thead>\n",
       "    <tr style=\"text-align: right;\">\n",
       "      <th></th>\n",
       "      <th>Order ID</th>\n",
       "      <th>Product</th>\n",
       "      <th>Quantity Ordered</th>\n",
       "      <th>Price Each</th>\n",
       "      <th>Order Date</th>\n",
       "      <th>Purchase Address</th>\n",
       "    </tr>\n",
       "  </thead>\n",
       "  <tbody>\n",
       "    <tr>\n",
       "      <th>186845</th>\n",
       "      <td>259353</td>\n",
       "      <td>AAA Batteries (4-pack)</td>\n",
       "      <td>3</td>\n",
       "      <td>2.99</td>\n",
       "      <td>09/17/19 20:56</td>\n",
       "      <td>840 Highland St, Los Angeles, CA 90001</td>\n",
       "    </tr>\n",
       "    <tr>\n",
       "      <th>186846</th>\n",
       "      <td>259354</td>\n",
       "      <td>iPhone</td>\n",
       "      <td>1</td>\n",
       "      <td>700</td>\n",
       "      <td>09/01/19 16:00</td>\n",
       "      <td>216 Dogwood St, San Francisco, CA 94016</td>\n",
       "    </tr>\n",
       "    <tr>\n",
       "      <th>186847</th>\n",
       "      <td>259355</td>\n",
       "      <td>iPhone</td>\n",
       "      <td>1</td>\n",
       "      <td>700</td>\n",
       "      <td>09/23/19 07:39</td>\n",
       "      <td>220 12th St, San Francisco, CA 94016</td>\n",
       "    </tr>\n",
       "    <tr>\n",
       "      <th>186848</th>\n",
       "      <td>259356</td>\n",
       "      <td>34in Ultrawide Monitor</td>\n",
       "      <td>1</td>\n",
       "      <td>379.99</td>\n",
       "      <td>09/19/19 17:30</td>\n",
       "      <td>511 Forest St, San Francisco, CA 94016</td>\n",
       "    </tr>\n",
       "    <tr>\n",
       "      <th>186849</th>\n",
       "      <td>259357</td>\n",
       "      <td>USB-C Charging Cable</td>\n",
       "      <td>1</td>\n",
       "      <td>11.95</td>\n",
       "      <td>09/30/19 00:18</td>\n",
       "      <td>250 Meadow St, San Francisco, CA 94016</td>\n",
       "    </tr>\n",
       "  </tbody>\n",
       "</table>\n",
       "</div>"
      ],
      "text/plain": [
       "       Order ID                 Product Quantity Ordered Price Each  \\\n",
       "186845   259353  AAA Batteries (4-pack)                3       2.99   \n",
       "186846   259354                  iPhone                1        700   \n",
       "186847   259355                  iPhone                1        700   \n",
       "186848   259356  34in Ultrawide Monitor                1     379.99   \n",
       "186849   259357    USB-C Charging Cable                1      11.95   \n",
       "\n",
       "            Order Date                         Purchase Address  \n",
       "186845  09/17/19 20:56   840 Highland St, Los Angeles, CA 90001  \n",
       "186846  09/01/19 16:00  216 Dogwood St, San Francisco, CA 94016  \n",
       "186847  09/23/19 07:39     220 12th St, San Francisco, CA 94016  \n",
       "186848  09/19/19 17:30   511 Forest St, San Francisco, CA 94016  \n",
       "186849  09/30/19 00:18   250 Meadow St, San Francisco, CA 94016  "
      ]
     },
     "execution_count": 133,
     "metadata": {},
     "output_type": "execute_result"
    }
   ],
   "source": [
    "### Read complete Data\n",
    "all_data = pd.read_csv('all_data.csv')\n",
    "all_data.tail()"
   ]
  },
  {
   "cell_type": "markdown",
   "metadata": {},
   "source": [
    "### Data Clean Up"
   ]
  },
  {
   "cell_type": "code",
   "execution_count": 134,
   "metadata": {},
   "outputs": [
    {
     "data": {
      "text/html": [
       "<div>\n",
       "<style scoped>\n",
       "    .dataframe tbody tr th:only-of-type {\n",
       "        vertical-align: middle;\n",
       "    }\n",
       "\n",
       "    .dataframe tbody tr th {\n",
       "        vertical-align: top;\n",
       "    }\n",
       "\n",
       "    .dataframe thead th {\n",
       "        text-align: right;\n",
       "    }\n",
       "</style>\n",
       "<table border=\"1\" class=\"dataframe\">\n",
       "  <thead>\n",
       "    <tr style=\"text-align: right;\">\n",
       "      <th></th>\n",
       "      <th>Order ID</th>\n",
       "      <th>Product</th>\n",
       "      <th>Quantity Ordered</th>\n",
       "      <th>Price Each</th>\n",
       "      <th>Order Date</th>\n",
       "      <th>Purchase Address</th>\n",
       "    </tr>\n",
       "  </thead>\n",
       "  <tbody>\n",
       "  </tbody>\n",
       "</table>\n",
       "</div>"
      ],
      "text/plain": [
       "Empty DataFrame\n",
       "Columns: [Order ID, Product, Quantity Ordered, Price Each, Order Date, Purchase Address]\n",
       "Index: []"
      ]
     },
     "execution_count": 134,
     "metadata": {},
     "output_type": "execute_result"
    }
   ],
   "source": [
    "## Clean up Data\n",
    "all_data[all_data.isna().any(axis=1)]\n",
    "all_data.dropna(inplace=True)\n",
    "\n",
    "all_data[all_data.isna().any(axis=1)]  # No more NAN values"
   ]
  },
  {
   "cell_type": "code",
   "execution_count": 135,
   "metadata": {},
   "outputs": [],
   "source": [
    "all_data = all_data[all_data['Order Date'].str[0:2] != \"Or\"]  # Removes all headers added as rows\n",
    "all_data[\"Quantity Ordered\"] = pd.to_numeric(all_data[\"Quantity Ordered\"])\n",
    "all_data[\"Price Each\"] = pd.to_numeric(all_data[\"Price Each\"])\n",
    "all_data[\"Order ID\"] = pd.to_numeric(all_data[\"Order ID\"])"
   ]
  },
  {
   "cell_type": "markdown",
   "metadata": {},
   "source": [
    "### Task 2 : What was the best month for Sales? How much was earned in that month?"
   ]
  },
  {
   "cell_type": "code",
   "execution_count": 136,
   "metadata": {},
   "outputs": [
    {
     "data": {
      "text/html": [
       "<div>\n",
       "<style scoped>\n",
       "    .dataframe tbody tr th:only-of-type {\n",
       "        vertical-align: middle;\n",
       "    }\n",
       "\n",
       "    .dataframe tbody tr th {\n",
       "        vertical-align: top;\n",
       "    }\n",
       "\n",
       "    .dataframe thead th {\n",
       "        text-align: right;\n",
       "    }\n",
       "</style>\n",
       "<table border=\"1\" class=\"dataframe\">\n",
       "  <thead>\n",
       "    <tr style=\"text-align: right;\">\n",
       "      <th></th>\n",
       "      <th>Order ID</th>\n",
       "      <th>Product</th>\n",
       "      <th>Quantity Ordered</th>\n",
       "      <th>Price Each</th>\n",
       "      <th>Order Date</th>\n",
       "      <th>Purchase Address</th>\n",
       "      <th>Month</th>\n",
       "    </tr>\n",
       "  </thead>\n",
       "  <tbody>\n",
       "    <tr>\n",
       "      <th>0</th>\n",
       "      <td>176558</td>\n",
       "      <td>USB-C Charging Cable</td>\n",
       "      <td>2</td>\n",
       "      <td>11.95</td>\n",
       "      <td>04/19/19 08:46</td>\n",
       "      <td>917 1st St, Dallas, TX 75001</td>\n",
       "      <td>04</td>\n",
       "    </tr>\n",
       "    <tr>\n",
       "      <th>2</th>\n",
       "      <td>176559</td>\n",
       "      <td>Bose SoundSport Headphones</td>\n",
       "      <td>1</td>\n",
       "      <td>99.99</td>\n",
       "      <td>04/07/19 22:30</td>\n",
       "      <td>682 Chestnut St, Boston, MA 02215</td>\n",
       "      <td>04</td>\n",
       "    </tr>\n",
       "    <tr>\n",
       "      <th>3</th>\n",
       "      <td>176560</td>\n",
       "      <td>Google Phone</td>\n",
       "      <td>1</td>\n",
       "      <td>600.00</td>\n",
       "      <td>04/12/19 14:38</td>\n",
       "      <td>669 Spruce St, Los Angeles, CA 90001</td>\n",
       "      <td>04</td>\n",
       "    </tr>\n",
       "    <tr>\n",
       "      <th>4</th>\n",
       "      <td>176560</td>\n",
       "      <td>Wired Headphones</td>\n",
       "      <td>1</td>\n",
       "      <td>11.99</td>\n",
       "      <td>04/12/19 14:38</td>\n",
       "      <td>669 Spruce St, Los Angeles, CA 90001</td>\n",
       "      <td>04</td>\n",
       "    </tr>\n",
       "    <tr>\n",
       "      <th>5</th>\n",
       "      <td>176561</td>\n",
       "      <td>Wired Headphones</td>\n",
       "      <td>1</td>\n",
       "      <td>11.99</td>\n",
       "      <td>04/30/19 09:27</td>\n",
       "      <td>333 8th St, Los Angeles, CA 90001</td>\n",
       "      <td>04</td>\n",
       "    </tr>\n",
       "  </tbody>\n",
       "</table>\n",
       "</div>"
      ],
      "text/plain": [
       "   Order ID                     Product  Quantity Ordered  Price Each  \\\n",
       "0    176558        USB-C Charging Cable                 2       11.95   \n",
       "2    176559  Bose SoundSport Headphones                 1       99.99   \n",
       "3    176560                Google Phone                 1      600.00   \n",
       "4    176560            Wired Headphones                 1       11.99   \n",
       "5    176561            Wired Headphones                 1       11.99   \n",
       "\n",
       "       Order Date                      Purchase Address Month  \n",
       "0  04/19/19 08:46          917 1st St, Dallas, TX 75001    04  \n",
       "2  04/07/19 22:30     682 Chestnut St, Boston, MA 02215    04  \n",
       "3  04/12/19 14:38  669 Spruce St, Los Angeles, CA 90001    04  \n",
       "4  04/12/19 14:38  669 Spruce St, Los Angeles, CA 90001    04  \n",
       "5  04/30/19 09:27     333 8th St, Los Angeles, CA 90001    04  "
      ]
     },
     "execution_count": 136,
     "metadata": {},
     "output_type": "execute_result"
    }
   ],
   "source": [
    "''' TASK 2 : What was the best month for Sales? How much was earned in that month? '''\n",
    "all_data[\"Month\"] = all_data[\"Order Date\"].str[0:2]\n",
    "all_data[\"Month\"].astype('int32')  # Now all months are integers\n",
    "\n",
    "all_data.head()"
   ]
  },
  {
   "cell_type": "code",
   "execution_count": 137,
   "metadata": {},
   "outputs": [
    {
     "data": {
      "text/plain": [
       "Text(0.5, 1.0, 'Sales in each Month')"
      ]
     },
     "execution_count": 137,
     "metadata": {},
     "output_type": "execute_result"
    },
    {
     "data": {
      "image/png": "[encoded data removed]",
      "text/plain": [
       "<Figure size 432x288 with 1 Axes>"
      ]
     },
     "metadata": {
      "needs_background": "light"
     },
     "output_type": "display_data"
    }
   ],
   "source": [
    "all_data[\"Sales\"] = all_data[\"Quantity Ordered\"].astype('int32') * all_data[\"Price Each\"].astype('float32')\n",
    "all_data.head()\n",
    "\n",
    "sales_data = all_data[[\"Month\", \"Sales\"]]\n",
    "result = sales_data.groupby(\"Month\").sum()\n",
    "\n",
    "result.to_csv(\"Highest-Month-Sales.csv\")\n",
    "\n",
    "## Plots\n",
    "import matplotlib.pyplot as plt\n",
    "%matplotlib inline\n",
    "\n",
    "months = range(1, 13)\n",
    "plt.bar(months, result[\"Sales\"])\n",
    "plt.xticks(months)\n",
    "plt.ylabel(\"Sales in USD\")\n",
    "plt.xlabel(\"Month\")\n",
    "plt.title(\"Sales in each Month\")"
   ]
  },
  {
   "cell_type": "markdown",
   "metadata": {},
   "source": [
    "#### Answer : December was the best month for Sales! With '4613443.50' Dollars worth of sales"
   ]
  },
  {
   "cell_type": "markdown",
   "metadata": {},
   "source": [
    "### TASK 3 : Which city had the highest number of Sales?"
   ]
  },
  {
   "cell_type": "code",
   "execution_count": 138,
   "metadata": {},
   "outputs": [
    {
     "name": "stdout",
     "output_type": "stream",
     "text": [
      "[' Atlanta, GA', ' Austin, TX', ' Boston, MA', ' Dallas, TX', ' Los Angeles, CA', ' New York City, NY', ' Portland, ME', ' Portland, OR', ' San Francisco, CA', ' Seattle, WA']\n",
      "                           Sales\n",
      "City                            \n",
      " Atlanta, GA        2.795498e+06\n",
      " Austin, TX         1.819582e+06\n",
      " Boston, MA         3.661642e+06\n",
      " Dallas, TX         2.767976e+06\n",
      " Los Angeles, CA    5.452571e+06\n",
      " New York City, NY  4.664318e+06\n",
      " Portland, ME       4.497583e+05\n",
      " Portland, OR       1.870732e+06\n",
      " San Francisco, CA  8.262204e+06\n",
      " Seattle, WA        2.747756e+06\n"
     ]
    },
    {
     "data": {
      "text/plain": [
       "([<matplotlib.axis.XTick at 0x17db8fc8198>,\n",
       "  <matplotlib.axis.XTick at 0x17db8fc6a90>,\n",
       "  <matplotlib.axis.XTick at 0x17db8fc6780>,\n",
       "  <matplotlib.axis.XTick at 0x17db8ff6208>,\n",
       "  <matplotlib.axis.XTick at 0x17db8ff66a0>,\n",
       "  <matplotlib.axis.XTick at 0x17db8ff6be0>,\n",
       "  <matplotlib.axis.XTick at 0x17db8ffa198>,\n",
       "  <matplotlib.axis.XTick at 0x17db8ffa710>,\n",
       "  <matplotlib.axis.XTick at 0x17db8ff6518>,\n",
       "  <matplotlib.axis.XTick at 0x17db8ffa8d0>],\n",
       " <a list of 10 Text xticklabel objects>)"
      ]
     },
     "execution_count": 138,
     "metadata": {},
     "output_type": "execute_result"
    },
    {
     "data": {
      "image/png": "[encoded data removed]",
      "text/plain": [
       "<Figure size 432x288 with 1 Axes>"
      ]
     },
     "metadata": {
      "needs_background": "light"
     },
     "output_type": "display_data"
    }
   ],
   "source": [
    "''' Add a City column to the data '''\n",
    "## Use of APPLY method!!\n",
    "def get_city(address):\n",
    "    address = address.split(',')\n",
    "    state = address[2].split(' ')[1]\n",
    "    return address[1] + ', ' + state\n",
    "\n",
    "all_data[\"City\"] = all_data[\"Purchase Address\"].apply(lambda x: get_city(x))\n",
    "all_data.head()\n",
    "\n",
    "city_sales = all_data[[\"Sales\", \"City\"]]\n",
    "results = city_sales.groupby(\"City\").sum()\n",
    "\n",
    "# cities = all_data[\"City\"].unique()\n",
    "# cities = all_data.sort_values([\"City\"])[\"City\"].unique()\n",
    "cities = [city for city, df in all_data.groupby(\"City\")]\n",
    "print(cities)\n",
    "print(results)\n",
    "\n",
    "results.to_csv(\"Highest-City-Sales.csv\")\n",
    "\n",
    "plt.xlabel(\"City\")\n",
    "plt.ylabel(\"Sales in USD\")\n",
    "plt.title(\"Sales in Cities\")\n",
    "plt.bar(cities, results[\"Sales\"])\n",
    "plt.xticks(cities, rotation='vertical', size=8)"
   ]
  },
  {
   "cell_type": "markdown",
   "metadata": {},
   "source": [
    "### Answer: San Francisco has the highest sales in that year!"
   ]
  },
  {
   "cell_type": "markdown",
   "metadata": {},
   "source": [
    "### TASK 4 : What time should advertisements be displayed to maximize likelihood of a customer buying the product?"
   ]
  },
  {
   "cell_type": "code",
   "execution_count": 139,
   "metadata": {},
   "outputs": [
    {
     "data": {
      "text/html": [
       "<div>\n",
       "<style scoped>\n",
       "    .dataframe tbody tr th:only-of-type {\n",
       "        vertical-align: middle;\n",
       "    }\n",
       "\n",
       "    .dataframe tbody tr th {\n",
       "        vertical-align: top;\n",
       "    }\n",
       "\n",
       "    .dataframe thead th {\n",
       "        text-align: right;\n",
       "    }\n",
       "</style>\n",
       "<table border=\"1\" class=\"dataframe\">\n",
       "  <thead>\n",
       "    <tr style=\"text-align: right;\">\n",
       "      <th></th>\n",
       "      <th>Order ID</th>\n",
       "      <th>Product</th>\n",
       "      <th>Quantity Ordered</th>\n",
       "      <th>Price Each</th>\n",
       "      <th>Order Date</th>\n",
       "      <th>Purchase Address</th>\n",
       "      <th>Month</th>\n",
       "      <th>Sales</th>\n",
       "      <th>City</th>\n",
       "    </tr>\n",
       "  </thead>\n",
       "  <tbody>\n",
       "    <tr>\n",
       "      <th>0</th>\n",
       "      <td>176558</td>\n",
       "      <td>USB-C Charging Cable</td>\n",
       "      <td>2</td>\n",
       "      <td>11.95</td>\n",
       "      <td>2019-04-19 08:46:00</td>\n",
       "      <td>917 1st St, Dallas, TX 75001</td>\n",
       "      <td>04</td>\n",
       "      <td>23.900000</td>\n",
       "      <td>Dallas, TX</td>\n",
       "    </tr>\n",
       "    <tr>\n",
       "      <th>2</th>\n",
       "      <td>176559</td>\n",
       "      <td>Bose SoundSport Headphones</td>\n",
       "      <td>1</td>\n",
       "      <td>99.99</td>\n",
       "      <td>2019-04-07 22:30:00</td>\n",
       "      <td>682 Chestnut St, Boston, MA 02215</td>\n",
       "      <td>04</td>\n",
       "      <td>99.989998</td>\n",
       "      <td>Boston, MA</td>\n",
       "    </tr>\n",
       "    <tr>\n",
       "      <th>3</th>\n",
       "      <td>176560</td>\n",
       "      <td>Google Phone</td>\n",
       "      <td>1</td>\n",
       "      <td>600.00</td>\n",
       "      <td>2019-04-12 14:38:00</td>\n",
       "      <td>669 Spruce St, Los Angeles, CA 90001</td>\n",
       "      <td>04</td>\n",
       "      <td>600.000000</td>\n",
       "      <td>Los Angeles, CA</td>\n",
       "    </tr>\n",
       "    <tr>\n",
       "      <th>4</th>\n",
       "      <td>176560</td>\n",
       "      <td>Wired Headphones</td>\n",
       "      <td>1</td>\n",
       "      <td>11.99</td>\n",
       "      <td>2019-04-12 14:38:00</td>\n",
       "      <td>669 Spruce St, Los Angeles, CA 90001</td>\n",
       "      <td>04</td>\n",
       "      <td>11.990000</td>\n",
       "      <td>Los Angeles, CA</td>\n",
       "    </tr>\n",
       "    <tr>\n",
       "      <th>5</th>\n",
       "      <td>176561</td>\n",
       "      <td>Wired Headphones</td>\n",
       "      <td>1</td>\n",
       "      <td>11.99</td>\n",
       "      <td>2019-04-30 09:27:00</td>\n",
       "      <td>333 8th St, Los Angeles, CA 90001</td>\n",
       "      <td>04</td>\n",
       "      <td>11.990000</td>\n",
       "      <td>Los Angeles, CA</td>\n",
       "    </tr>\n",
       "  </tbody>\n",
       "</table>\n",
       "</div>"
      ],
      "text/plain": [
       "   Order ID                     Product  Quantity Ordered  Price Each  \\\n",
       "0    176558        USB-C Charging Cable                 2       11.95   \n",
       "2    176559  Bose SoundSport Headphones                 1       99.99   \n",
       "3    176560                Google Phone                 1      600.00   \n",
       "4    176560            Wired Headphones                 1       11.99   \n",
       "5    176561            Wired Headphones                 1       11.99   \n",
       "\n",
       "           Order Date                      Purchase Address Month       Sales  \\\n",
       "0 2019-04-19 08:46:00          917 1st St, Dallas, TX 75001    04   23.900000   \n",
       "2 2019-04-07 22:30:00     682 Chestnut St, Boston, MA 02215    04   99.989998   \n",
       "3 2019-04-12 14:38:00  669 Spruce St, Los Angeles, CA 90001    04  600.000000   \n",
       "4 2019-04-12 14:38:00  669 Spruce St, Los Angeles, CA 90001    04   11.990000   \n",
       "5 2019-04-30 09:27:00     333 8th St, Los Angeles, CA 90001    04   11.990000   \n",
       "\n",
       "               City  \n",
       "0        Dallas, TX  \n",
       "2        Boston, MA  \n",
       "3   Los Angeles, CA  \n",
       "4   Los Angeles, CA  \n",
       "5   Los Angeles, CA  "
      ]
     },
     "execution_count": 139,
     "metadata": {},
     "output_type": "execute_result"
    }
   ],
   "source": [
    "''' Use Datetime library'''\n",
    "all_data[\"Order Date\"] = pd.to_datetime(all_data[\"Order Date\"])\n",
    "all_data.head()"
   ]
  },
  {
   "cell_type": "code",
   "execution_count": 140,
   "metadata": {},
   "outputs": [
    {
     "data": {
      "text/plain": [
       "Text(0, 0.5, '# of items bought')"
      ]
     },
     "execution_count": 140,
     "metadata": {},
     "output_type": "execute_result"
    },
    {
     "data": {
      "image/png": "[encoded data removed]",
      "text/plain": [
       "<Figure size 432x288 with 1 Axes>"
      ]
     },
     "metadata": {
      "needs_background": "light"
     },
     "output_type": "display_data"
    }
   ],
   "source": [
    "all_data[\"Hour\"] = all_data[\"Order Date\"].dt.hour\n",
    "all_data[\"Minute\"] = all_data[\"Order Date\"].dt.minute\n",
    "all_data.head()\n",
    "\n",
    "hours = [hour for hour, df in all_data.groupby(\"Hour\")]\n",
    "minutes = [minute for minute, df in all_data.groupby(\"Minute\")]\n",
    "\n",
    "plt.plot(hours, all_data.groupby(\"Hour\").count())\n",
    "plt.xticks(hours)\n",
    "plt.grid()\n",
    "plt.xlabel(\"Hour\")\n",
    "plt.ylabel(\"# of items bought\")"
   ]
  },
  {
   "cell_type": "markdown",
   "metadata": {},
   "source": [
    "### TASK 5 : What products are most often sold together?"
   ]
  },
  {
   "cell_type": "code",
   "execution_count": 194,
   "metadata": {},
   "outputs": [
    {
     "data": {
      "text/html": [
       "<div>\n",
       "<style scoped>\n",
       "    .dataframe tbody tr th:only-of-type {\n",
       "        vertical-align: middle;\n",
       "    }\n",
       "\n",
       "    .dataframe tbody tr th {\n",
       "        vertical-align: top;\n",
       "    }\n",
       "\n",
       "    .dataframe thead th {\n",
       "        text-align: right;\n",
       "    }\n",
       "</style>\n",
       "<table border=\"1\" class=\"dataframe\">\n",
       "  <thead>\n",
       "    <tr style=\"text-align: right;\">\n",
       "      <th></th>\n",
       "      <th>Count</th>\n",
       "    </tr>\n",
       "    <tr>\n",
       "      <th>Product</th>\n",
       "      <th></th>\n",
       "    </tr>\n",
       "  </thead>\n",
       "  <tbody>\n",
       "    <tr>\n",
       "      <th>iPhone, Lightning Charging Cable,</th>\n",
       "      <td>882</td>\n",
       "    </tr>\n",
       "    <tr>\n",
       "      <th>Google Phone, USB-C Charging Cable,</th>\n",
       "      <td>856</td>\n",
       "    </tr>\n",
       "    <tr>\n",
       "      <th>iPhone, Wired Headphones,</th>\n",
       "      <td>361</td>\n",
       "    </tr>\n",
       "    <tr>\n",
       "      <th>Vareebadd Phone, USB-C Charging Cable,</th>\n",
       "      <td>312</td>\n",
       "    </tr>\n",
       "    <tr>\n",
       "      <th>Google Phone, Wired Headphones,</th>\n",
       "      <td>303</td>\n",
       "    </tr>\n",
       "  </tbody>\n",
       "</table>\n",
       "</div>"
      ],
      "text/plain": [
       "                                         Count\n",
       "Product                                       \n",
       "iPhone, Lightning Charging Cable,          882\n",
       "Google Phone, USB-C Charging Cable,        856\n",
       "iPhone, Wired Headphones,                  361\n",
       "Vareebadd Phone, USB-C Charging Cable,     312\n",
       "Google Phone, Wired Headphones,            303"
      ]
     },
     "execution_count": 194,
     "metadata": {},
     "output_type": "execute_result"
    }
   ],
   "source": [
    "''' Find duplicated Order ID. That would help us understand which products were most often bought together '''\n",
    "double_order = all_data[all_data.duplicated('Order ID', keep=False)]\n",
    "double_order = double_order[[\"Order ID\", \"Product\"]]\n",
    "double_order[\"Product\"] = double_order[\"Product\"].apply(lambda x: x + ', ')\n",
    "\n",
    "result = double_order.groupby(\"Order ID\").sum()\n",
    "result[\"Count\"] = 1\n",
    "result = result.groupby(\"Product\").count()\n",
    "result.sort_values(\"Count\", inplace=True, ascending=False)\n",
    "\n",
    "result.to_csv(\"pair-products.csv\")\n",
    "result.head()"
   ]
  },
  {
   "cell_type": "code",
   "execution_count": 212,
   "metadata": {},
   "outputs": [
    {
     "data": {
      "text/html": [
       "<div>\n",
       "<style scoped>\n",
       "    .dataframe tbody tr th:only-of-type {\n",
       "        vertical-align: middle;\n",
       "    }\n",
       "\n",
       "    .dataframe tbody tr th {\n",
       "        vertical-align: top;\n",
       "    }\n",
       "\n",
       "    .dataframe thead th {\n",
       "        text-align: right;\n",
       "    }\n",
       "</style>\n",
       "<table border=\"1\" class=\"dataframe\">\n",
       "  <thead>\n",
       "    <tr style=\"text-align: right;\">\n",
       "      <th></th>\n",
       "      <th>Order ID</th>\n",
       "      <th>Sales</th>\n",
       "      <th>Product</th>\n",
       "    </tr>\n",
       "  </thead>\n",
       "  <tbody>\n",
       "    <tr>\n",
       "      <th>3</th>\n",
       "      <td>176560</td>\n",
       "      <td>600.000000</td>\n",
       "      <td>Google Phone</td>\n",
       "    </tr>\n",
       "    <tr>\n",
       "      <th>4</th>\n",
       "      <td>176560</td>\n",
       "      <td>11.990000</td>\n",
       "      <td>Wired Headphones</td>\n",
       "    </tr>\n",
       "    <tr>\n",
       "      <th>18</th>\n",
       "      <td>176574</td>\n",
       "      <td>600.000000</td>\n",
       "      <td>Google Phone</td>\n",
       "    </tr>\n",
       "    <tr>\n",
       "      <th>19</th>\n",
       "      <td>176574</td>\n",
       "      <td>11.950000</td>\n",
       "      <td>USB-C Charging Cable</td>\n",
       "    </tr>\n",
       "    <tr>\n",
       "      <th>30</th>\n",
       "      <td>176585</td>\n",
       "      <td>99.989998</td>\n",
       "      <td>Bose SoundSport Headphones</td>\n",
       "    </tr>\n",
       "  </tbody>\n",
       "</table>\n",
       "</div>"
      ],
      "text/plain": [
       "    Order ID       Sales                     Product\n",
       "3     176560  600.000000                Google Phone\n",
       "4     176560   11.990000            Wired Headphones\n",
       "18    176574  600.000000                Google Phone\n",
       "19    176574   11.950000        USB-C Charging Cable\n",
       "30    176585   99.989998  Bose SoundSport Headphones"
      ]
     },
     "execution_count": 212,
     "metadata": {},
     "output_type": "execute_result"
    }
   ],
   "source": [
    "''' Find duplicated Order ID. That would help us understand which products were most often bought together '''\n",
    "double_order = all_data[all_data.duplicated('Order ID', keep=False)]\n",
    "double_order = double_order[[\"Order ID\", \"Sales\", \"Product\"]]\n",
    "\n",
    "double_order.head()"
   ]
  },
  {
   "cell_type": "code",
   "execution_count": 213,
   "metadata": {},
   "outputs": [],
   "source": [
    "double_order[\"Grouped\"] = double_order.groupby(\"Order ID\")[\"Product\"].transform(lambda x: ', '.join(x))\n",
    "double_order = double_order[double_order.duplicated('Order ID')]\n",
    "result = double_order.groupby(\"Grouped\").count()"
   ]
  },
  {
   "cell_type": "code",
   "execution_count": 219,
   "metadata": {},
   "outputs": [
    {
     "data": {
      "text/html": [
       "<div>\n",
       "<style scoped>\n",
       "    .dataframe tbody tr th:only-of-type {\n",
       "        vertical-align: middle;\n",
       "    }\n",
       "\n",
       "    .dataframe tbody tr th {\n",
       "        vertical-align: top;\n",
       "    }\n",
       "\n",
       "    .dataframe thead th {\n",
       "        text-align: right;\n",
       "    }\n",
       "</style>\n",
       "<table border=\"1\" class=\"dataframe\">\n",
       "  <thead>\n",
       "    <tr style=\"text-align: right;\">\n",
       "      <th></th>\n",
       "      <th>Order ID</th>\n",
       "      <th>Sales</th>\n",
       "      <th>Product</th>\n",
       "    </tr>\n",
       "    <tr>\n",
       "      <th>Grouped</th>\n",
       "      <th></th>\n",
       "      <th></th>\n",
       "      <th></th>\n",
       "    </tr>\n",
       "  </thead>\n",
       "  <tbody>\n",
       "    <tr>\n",
       "      <th>iPhone, Lightning Charging Cable</th>\n",
       "      <td>882</td>\n",
       "      <td>882</td>\n",
       "      <td>882</td>\n",
       "    </tr>\n",
       "    <tr>\n",
       "      <th>Google Phone, USB-C Charging Cable</th>\n",
       "      <td>856</td>\n",
       "      <td>856</td>\n",
       "      <td>856</td>\n",
       "    </tr>\n",
       "    <tr>\n",
       "      <th>iPhone, Wired Headphones</th>\n",
       "      <td>361</td>\n",
       "      <td>361</td>\n",
       "      <td>361</td>\n",
       "    </tr>\n",
       "    <tr>\n",
       "      <th>Vareebadd Phone, USB-C Charging Cable</th>\n",
       "      <td>312</td>\n",
       "      <td>312</td>\n",
       "      <td>312</td>\n",
       "    </tr>\n",
       "    <tr>\n",
       "      <th>Google Phone, Wired Headphones</th>\n",
       "      <td>303</td>\n",
       "      <td>303</td>\n",
       "      <td>303</td>\n",
       "    </tr>\n",
       "  </tbody>\n",
       "</table>\n",
       "</div>"
      ],
      "text/plain": [
       "                                       Order ID  Sales  Product\n",
       "Grouped                                                        \n",
       "iPhone, Lightning Charging Cable            882    882      882\n",
       "Google Phone, USB-C Charging Cable          856    856      856\n",
       "iPhone, Wired Headphones                    361    361      361\n",
       "Vareebadd Phone, USB-C Charging Cable       312    312      312\n",
       "Google Phone, Wired Headphones              303    303      303"
      ]
     },
     "execution_count": 219,
     "metadata": {},
     "output_type": "execute_result"
    }
   ],
   "source": [
    "result.sort_values(\"Product\", ascending=False, inplace=True)\n",
    "result.head()"
   ]
  },
  {
   "cell_type": "markdown",
   "metadata": {},
   "source": [
    "### TASK 5 completed using transform and apply methods. As the results show, the products most often sold together are the iPhone and Lightning Charging Cable"
   ]
  },
  {
   "cell_type": "markdown",
   "metadata": {},
   "source": [
    "### TASK 6 : What product sold the most? Why do you think it sold the most?"
   ]
  },
  {
   "cell_type": "code",
   "execution_count": 233,
   "metadata": {},
   "outputs": [],
   "source": [
    "df = all_data[[\"Product\", \"Quantity Ordered\"]]\n",
    "result = df.groupby(\"Product\").sum()\n",
    "# result.sort_values(\"Quantity Ordered\", inplace=True, ascending=False)\n",
    "# result.head(5)"
   ]
  },
  {
   "cell_type": "code",
   "execution_count": 262,
   "metadata": {},
   "outputs": [
    {
     "data": {
      "text/plain": [
       "[Text(0, 0, '20in Monitor'),\n",
       " Text(0, 0, '27in 4K Gaming Monitor'),\n",
       " Text(0, 0, '27in FHD Monitor'),\n",
       " Text(0, 0, '34in Ultrawide Monitor'),\n",
       " Text(0, 0, 'AA Batteries (4-pack)'),\n",
       " Text(0, 0, 'AAA Batteries (4-pack)'),\n",
       " Text(0, 0, 'Apple Airpods Headphones'),\n",
       " Text(0, 0, 'Bose SoundSport Headphones'),\n",
       " Text(0, 0, 'Flatscreen TV'),\n",
       " Text(0, 0, 'Google Phone'),\n",
       " Text(0, 0, 'LG Dryer'),\n",
       " Text(0, 0, 'LG Washing Machine'),\n",
       " Text(0, 0, 'Lightning Charging Cable'),\n",
       " Text(0, 0, 'Macbook Pro Laptop'),\n",
       " Text(0, 0, 'ThinkPad Laptop'),\n",
       " Text(0, 0, 'USB-C Charging Cable'),\n",
       " Text(0, 0, 'Vareebadd Phone'),\n",
       " Text(0, 0, 'Wired Headphones'),\n",
       " Text(0, 0, 'iPhone')]"
      ]
     },
     "execution_count": 262,
     "metadata": {},
     "output_type": "execute_result"
    },
    {
     "data": {
      "image/png": "[encoded data removed]",
      "text/plain": [
       "<Figure size 432x288 with 2 Axes>"
      ]
     },
     "metadata": {
      "needs_background": "light"
     },
     "output_type": "display_data"
    }
   ],
   "source": [
    "products = [product for product, df in all_data.groupby(\"Product\")]\n",
    "price = all_data.groupby(\"Product\").mean()[\"Price Each\"]\n",
    "\n",
    "fig, ax1 = plt.subplots()\n",
    "\n",
    "ax2 = ax1.twinx()\n",
    "ax1.bar(products, result[\"Quantity Ordered\"], color='g')\n",
    "ax2.plot(products, price, 'b-')\n",
    "\n",
    "ax1.set_xlabel('Product')\n",
    "ax1.set_ylabel('Quantity Ordered', color='g')\n",
    "ax2.set_ylabel('Price', color='b')\n",
    "ax1.set_xticklabels(products, rotation='vertical', size=8)"
   ]
  },
  {
   "cell_type": "markdown",
   "metadata": {},
   "source": [
    "### Seems like the quantity sold is inversely proportional to the price of the product. Though, this does not hold for all products."
   ]
  }
 ],
 "metadata": {
  "kernelspec": {
   "display_name": "Python 3",
   "language": "python",
   "name": "python3"
  },
  "language_info": {
   "codemirror_mode": {
    "name": "ipython",
    "version": 3
   },
   "file_extension": ".py",
   "mimetype": "text/x-python",
   "name": "python",
   "nbconvert_exporter": "python",
   "pygments_lexer": "ipython3",
   "version": "3.6.4"
  }
 },
 "nbformat": 4,
 "nbformat_minor": 2
}
