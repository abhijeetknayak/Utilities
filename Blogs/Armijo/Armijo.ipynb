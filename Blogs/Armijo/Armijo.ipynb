{
 "cells": [
  {
   "cell_type": "code",
   "execution_count": null,
   "id": "07296ffb",
   "metadata": {},
   "outputs": [],
   "source": [
    "import numpy as np\n",
    "import matplotlib.pyplot as plt\n",
    "%matplotlib inline\n",
    "\n",
    "x = np.arange(-3.0, 3.0, 0.001)\n",
    "fn = lambda x: [x_ ** 2 for x_ in x] if type(x) == list else x ** 2\n",
    "grad_fn = lambda x: [x_ * 2 for x_ in x] if type(x) == list else x * 2\n",
    "\n",
    "plt.plot(x, fn(x), 'b')\n",
    "plt.xlabel('x')\n",
    "plt.ylabel('f(x)')\n",
    "plt.savefig(\"x2.jpg\", dpi=300)\n",
    "plt.show()"
   ]
  },
  {
   "cell_type": "code",
   "execution_count": null,
   "id": "76863fc4",
   "metadata": {},
   "outputs": [],
   "source": [
    "def compute_solution(fn, grad_fn, x_init, alpha, num_iters=100, eps=1e-6):\n",
    "    x_iters = [x_init]\n",
    "    cur_x = x_init\n",
    "    for iteration in range(num_iters):\n",
    "        # Gradient Descent\n",
    "        next_x = cur_x - alpha * grad_fn(cur_x)\n",
    "        x_iters.append(next_x)\n",
    "        if abs(grad_fn(next_x)) < eps:\n",
    "            return x_iters\n",
    "        \n",
    "        cur_x = next_x\n",
    "    \n",
    "    return x_iters"
   ]
  },
  {
   "cell_type": "code",
   "execution_count": null,
   "id": "bab98901",
   "metadata": {},
   "outputs": [],
   "source": [
    "import matplotlib\n",
    "font = {'family' : 'normal',\n",
    "        'weight' : 'normal',\n",
    "        'size'   : 15}\n",
    "\n",
    "matplotlib.rc('font', **font)"
   ]
  },
  {
   "cell_type": "code",
   "execution_count": null,
   "id": "0638efbc",
   "metadata": {},
   "outputs": [],
   "source": [
    "alphas = [0.01 / 4, 0.1 / 4, 1 / 4, 3.95 / 4, 4.024 / 4]\n",
    "x_init = 2.0\n",
    "num_iters = [2000, 1000, 1000, 29, 29]\n",
    "\n",
    "plt.plot(x, fn(x), 'b')\n",
    "ep_len = []\n",
    "\n",
    "for idx, alpha in enumerate(alphas):\n",
    "    if idx != 4:\n",
    "        continue\n",
    "    x_iters = compute_solution(fn, grad_fn, x_init, alpha, num_iters[idx])\n",
    "    plt.plot(x_iters, fn(x_iters), 'r.-', label=f'alpha: {alpha}, {len(x_iters)} iterations')\n",
    "    ep_len.append(len(x_iters))\n",
    "\n",
    "plt.xlabel('x')\n",
    "plt.ylabel('f(x)')\n",
    "plt.legend()\n",
    "plt.savefig('div_alpha.jpg', dpi=300)\n",
    "plt.show()"
   ]
  },
  {
   "cell_type": "code",
   "execution_count": null,
   "id": "35c26b78",
   "metadata": {},
   "outputs": [],
   "source": [
    "ep_len"
   ]
  },
  {
   "cell_type": "code",
   "execution_count": null,
   "id": "4cf83303",
   "metadata": {},
   "outputs": [],
   "source": [
    "def backtracking_armijo(x, pk, fn, grad_fn, gamma=0.5, beta=0.8, tmax=1):\n",
    "    t = tmax\n",
    "    while fn(x + t * pk) >= fn(x) + gamma * t * grad_fn(x) * pk:\n",
    "        # Update t using beta\n",
    "        t = beta * t\n",
    "    return t\n",
    "\n",
    "def compute_armijo_solution(fn, grad_fn, x_init, num_iters=100, eps=1e-6, gamma=0.5, beta=0.8):\n",
    "    x_iters = [x_init]\n",
    "    cur_x = x_init\n",
    "    for iteration in range(num_iters):\n",
    "        # tk, pk\n",
    "        pk = -grad_fn(cur_x)\n",
    "        tk = backtracking_armijo(cur_x, pk, fn, grad_fn, gamma=gamma, beta=beta)\n",
    "        \n",
    "        # Compute next_x value\n",
    "        next_x = cur_x + tk * pk\n",
    "        x_iters.append(next_x)\n",
    "        \n",
    "        # Check convergence\n",
    "        if abs(grad_fn(next_x)) < eps:\n",
    "            return x_iters\n",
    "        \n",
    "        # Update current value of x\n",
    "        cur_x = next_x\n",
    "    \n",
    "    return x_iters        "
   ]
  },
  {
   "cell_type": "code",
   "execution_count": null,
   "id": "8eb86623",
   "metadata": {},
   "outputs": [],
   "source": [
    "x_init = 2.0\n",
    "gammas = [0.1, 0.5, 0.9]\n",
    "\n",
    "plt.plot(x, fn(x), 'b')\n",
    "ep_len = []\n",
    "\n",
    "for idx, gamma in enumerate(gammas):\n",
    "    if idx != 2:\n",
    "        continue\n",
    "    x_iters = compute_armijo_solution(fn, grad_fn, x_init, gamma=gamma)\n",
    "    plt.plot(x_iters, fn(x_iters), 'r.-', label=f'gamma: {gamma}, {len(x_iters)} iterations')\n",
    "    ep_len.append(len(x_iters))\n",
    "    \n",
    "plt.legend()\n",
    "plt.xlabel('x')\n",
    "plt.ylabel('f(x)')\n",
    "plt.savefig('gamma_1.jpg', dpi=300)\n",
    "plt.show()"
   ]
  },
  {
   "cell_type": "code",
   "execution_count": null,
   "id": "cab36308",
   "metadata": {},
   "outputs": [],
   "source": [
    "ep_len"
   ]
  },
  {
   "cell_type": "code",
   "execution_count": null,
   "id": "0a715e93",
   "metadata": {},
   "outputs": [],
   "source": []
  }
 ],
 "metadata": {
  "kernelspec": {
   "display_name": "robot1",
   "language": "python",
   "name": "robot1"
  },
  "language_info": {
   "codemirror_mode": {
    "name": "ipython",
    "version": 3
   },
   "file_extension": ".py",
   "mimetype": "text/x-python",
   "name": "python",
   "nbconvert_exporter": "python",
   "pygments_lexer": "ipython3",
   "version": "3.8.13"
  }
 },
 "nbformat": 4,
 "nbformat_minor": 5
}
